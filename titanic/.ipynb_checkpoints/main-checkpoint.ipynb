{
 "cells": [
  {
   "cell_type": "code",
   "execution_count": 61,
   "metadata": {},
   "outputs": [],
   "source": [
    "import math\n",
    "import matplotlib.pyplot as plt\n",
    "import numpy as np\n",
    "import pandas as pd\n",
    "import seaborn\n",
    "\n",
    "from sklearn.base import BaseEstimator, TransformerMixin\n",
    "from sklearn.ensemble import (AdaBoostClassifier, BaggingClassifier, GradientBoostingClassifier, \n",
    "                              RandomForestClassifier, VotingClassifier)\n",
    "from sklearn.linear_model import LogisticRegression, SGDClassifier\n",
    "from sklearn.metrics import (accuracy_score, confusion_matrix, f1_score, precision_recall_curve, precision_score, \n",
    "                             recall_score, roc_auc_score, roc_curve)\n",
    "from sklearn.model_selection import cross_val_predict, cross_val_score\n",
    "from sklearn.pipeline import FeatureUnion, Pipeline\n",
    "from sklearn.preprocessing import Imputer, OneHotEncoder, StandardScaler\n",
    "from sklearn.svm import LinearSVC, SVC\n",
    "from sklearn.tree import DecisionTreeClassifier"
   ]
  },
  {
   "cell_type": "code",
   "execution_count": 2,
   "metadata": {},
   "outputs": [],
   "source": [
    "train = pd.read_csv(\"data/train.csv\", index_col=0)\n",
    "test = pd.read_csv(\"data/test.csv\", index_col=0)"
   ]
  },
  {
   "cell_type": "code",
   "execution_count": null,
   "metadata": {},
   "outputs": [],
   "source": []
  },
  {
   "cell_type": "code",
   "execution_count": 92,
   "metadata": {},
   "outputs": [
    {
     "data": {
      "text/html": [
       "<div>\n",
       "<style scoped>\n",
       "    .dataframe tbody tr th:only-of-type {\n",
       "        vertical-align: middle;\n",
       "    }\n",
       "\n",
       "    .dataframe tbody tr th {\n",
       "        vertical-align: top;\n",
       "    }\n",
       "\n",
       "    .dataframe thead th {\n",
       "        text-align: right;\n",
       "    }\n",
       "</style>\n",
       "<table border=\"1\" class=\"dataframe\">\n",
       "  <thead>\n",
       "    <tr style=\"text-align: right;\">\n",
       "      <th></th>\n",
       "      <th>Survived</th>\n",
       "      <th>Pclass</th>\n",
       "      <th>Name</th>\n",
       "      <th>Sex</th>\n",
       "      <th>Age</th>\n",
       "      <th>SibSp</th>\n",
       "      <th>Parch</th>\n",
       "      <th>Ticket</th>\n",
       "      <th>Fare</th>\n",
       "      <th>Cabin</th>\n",
       "      <th>Embarked</th>\n",
       "    </tr>\n",
       "    <tr>\n",
       "      <th>PassengerId</th>\n",
       "      <th></th>\n",
       "      <th></th>\n",
       "      <th></th>\n",
       "      <th></th>\n",
       "      <th></th>\n",
       "      <th></th>\n",
       "      <th></th>\n",
       "      <th></th>\n",
       "      <th></th>\n",
       "      <th></th>\n",
       "      <th></th>\n",
       "    </tr>\n",
       "  </thead>\n",
       "  <tbody>\n",
       "    <tr>\n",
       "      <th>1</th>\n",
       "      <td>0</td>\n",
       "      <td>3</td>\n",
       "      <td>Braund, Mr. Owen Harris</td>\n",
       "      <td>male</td>\n",
       "      <td>22.0</td>\n",
       "      <td>1</td>\n",
       "      <td>0</td>\n",
       "      <td>A/5 21171</td>\n",
       "      <td>7.2500</td>\n",
       "      <td>NaN</td>\n",
       "      <td>S</td>\n",
       "    </tr>\n",
       "    <tr>\n",
       "      <th>2</th>\n",
       "      <td>1</td>\n",
       "      <td>1</td>\n",
       "      <td>Cumings, Mrs. John Bradley (Florence Briggs Th...</td>\n",
       "      <td>female</td>\n",
       "      <td>38.0</td>\n",
       "      <td>1</td>\n",
       "      <td>0</td>\n",
       "      <td>PC 17599</td>\n",
       "      <td>71.2833</td>\n",
       "      <td>C85</td>\n",
       "      <td>C</td>\n",
       "    </tr>\n",
       "    <tr>\n",
       "      <th>3</th>\n",
       "      <td>1</td>\n",
       "      <td>3</td>\n",
       "      <td>Heikkinen, Miss. Laina</td>\n",
       "      <td>female</td>\n",
       "      <td>26.0</td>\n",
       "      <td>0</td>\n",
       "      <td>0</td>\n",
       "      <td>STON/O2. 3101282</td>\n",
       "      <td>7.9250</td>\n",
       "      <td>NaN</td>\n",
       "      <td>S</td>\n",
       "    </tr>\n",
       "    <tr>\n",
       "      <th>4</th>\n",
       "      <td>1</td>\n",
       "      <td>1</td>\n",
       "      <td>Futrelle, Mrs. Jacques Heath (Lily May Peel)</td>\n",
       "      <td>female</td>\n",
       "      <td>35.0</td>\n",
       "      <td>1</td>\n",
       "      <td>0</td>\n",
       "      <td>113803</td>\n",
       "      <td>53.1000</td>\n",
       "      <td>C123</td>\n",
       "      <td>S</td>\n",
       "    </tr>\n",
       "    <tr>\n",
       "      <th>5</th>\n",
       "      <td>0</td>\n",
       "      <td>3</td>\n",
       "      <td>Allen, Mr. William Henry</td>\n",
       "      <td>male</td>\n",
       "      <td>35.0</td>\n",
       "      <td>0</td>\n",
       "      <td>0</td>\n",
       "      <td>373450</td>\n",
       "      <td>8.0500</td>\n",
       "      <td>NaN</td>\n",
       "      <td>S</td>\n",
       "    </tr>\n",
       "  </tbody>\n",
       "</table>\n",
       "</div>"
      ],
      "text/plain": [
       "             Survived  Pclass  \\\n",
       "PassengerId                     \n",
       "1                   0       3   \n",
       "2                   1       1   \n",
       "3                   1       3   \n",
       "4                   1       1   \n",
       "5                   0       3   \n",
       "\n",
       "                                                          Name     Sex   Age  \\\n",
       "PassengerId                                                                    \n",
       "1                                      Braund, Mr. Owen Harris    male  22.0   \n",
       "2            Cumings, Mrs. John Bradley (Florence Briggs Th...  female  38.0   \n",
       "3                                       Heikkinen, Miss. Laina  female  26.0   \n",
       "4                 Futrelle, Mrs. Jacques Heath (Lily May Peel)  female  35.0   \n",
       "5                                     Allen, Mr. William Henry    male  35.0   \n",
       "\n",
       "             SibSp  Parch            Ticket     Fare Cabin Embarked  \n",
       "PassengerId                                                          \n",
       "1                1      0         A/5 21171   7.2500   NaN        S  \n",
       "2                1      0          PC 17599  71.2833   C85        C  \n",
       "3                0      0  STON/O2. 3101282   7.9250   NaN        S  \n",
       "4                1      0            113803  53.1000  C123        S  \n",
       "5                0      0            373450   8.0500   NaN        S  "
      ]
     },
     "execution_count": 92,
     "metadata": {},
     "output_type": "execute_result"
    }
   ],
   "source": [
    "train.head()"
   ]
  },
  {
   "cell_type": "code",
   "execution_count": 93,
   "metadata": {},
   "outputs": [
    {
     "name": "stdout",
     "output_type": "stream",
     "text": [
      "<class 'pandas.core.frame.DataFrame'>\n",
      "Int64Index: 891 entries, 1 to 891\n",
      "Data columns (total 11 columns):\n",
      "Survived    891 non-null int64\n",
      "Pclass      891 non-null int64\n",
      "Name        891 non-null object\n",
      "Sex         891 non-null object\n",
      "Age         714 non-null float64\n",
      "SibSp       891 non-null int64\n",
      "Parch       891 non-null int64\n",
      "Ticket      891 non-null object\n",
      "Fare        891 non-null float64\n",
      "Cabin       204 non-null object\n",
      "Embarked    889 non-null object\n",
      "dtypes: float64(2), int64(4), object(5)\n",
      "memory usage: 83.5+ KB\n"
     ]
    }
   ],
   "source": [
    "train.info()"
   ]
  },
  {
   "cell_type": "markdown",
   "metadata": {},
   "source": [
    "Thoughts on columns:\n",
    "\n",
    "* Survived: What we're trying to predict\n",
    "* Pclass (Ticket class): We are told upper-class people were more likely to survive\n",
    "* Name: The titles within the names may be useful\n",
    "* Sex: We are told women were more likely to survive\n",
    "* Age: We are told children are more likely to survive. There are missing values for this variable. We may want to bin this variable.\n",
    "* SibSp (# of siblings / spouses aboard): Initial thought is that bigger families are less likely to survive due to time spent gathering people\n",
    "* Parch (# of parents / children aboard): Initial thought is that bigger families are less likely to survive due to time spent gathering people\n",
    "* Ticket (ticket number): No clue what this looks like\n",
    "* Fare: Probably correlated with Pclass. Hard to say if it will be useful.\n",
    "* Cabin (cabin number): Most values are missing. May not be able to impute without introducing significant bias. Still would be interesting to see if the data that exists is helpful.\n",
    "* Embarked (port): I feel like this shouldn't matter, though perhaps the people who embarked from each place were clustered in certain places in the ship."
   ]
  },
  {
   "cell_type": "code",
   "execution_count": 96,
   "metadata": {},
   "outputs": [],
   "source": [
    "# We will definitely want the Sex variable to be an integer\n",
    "\n",
    "sex_mapping = {\"male\": 0, \"female\": 1}\n",
    "train[\"Sex\"] = train[\"Sex\"].map(sex_mapping)"
   ]
  },
  {
   "cell_type": "code",
   "execution_count": 94,
   "metadata": {},
   "outputs": [],
   "source": [
    "# Let's extract titles out of the Name variable. It looks like the titles are denoted by ending in a period.\n",
    "\n",
    "train[\"Title\"] = train.Name.str.extract(' ([A-Za-z]+)\\.', expand=False)"
   ]
  },
  {
   "cell_type": "code",
   "execution_count": 97,
   "metadata": {},
   "outputs": [
    {
     "data": {
      "text/html": [
       "<div>\n",
       "<style scoped>\n",
       "    .dataframe tbody tr th:only-of-type {\n",
       "        vertical-align: middle;\n",
       "    }\n",
       "\n",
       "    .dataframe tbody tr th {\n",
       "        vertical-align: top;\n",
       "    }\n",
       "\n",
       "    .dataframe thead th {\n",
       "        text-align: right;\n",
       "    }\n",
       "</style>\n",
       "<table border=\"1\" class=\"dataframe\">\n",
       "  <thead>\n",
       "    <tr style=\"text-align: right;\">\n",
       "      <th>Sex</th>\n",
       "      <th>0</th>\n",
       "      <th>1</th>\n",
       "    </tr>\n",
       "    <tr>\n",
       "      <th>Title</th>\n",
       "      <th></th>\n",
       "      <th></th>\n",
       "    </tr>\n",
       "  </thead>\n",
       "  <tbody>\n",
       "    <tr>\n",
       "      <th>Capt</th>\n",
       "      <td>1</td>\n",
       "      <td>0</td>\n",
       "    </tr>\n",
       "    <tr>\n",
       "      <th>Col</th>\n",
       "      <td>2</td>\n",
       "      <td>0</td>\n",
       "    </tr>\n",
       "    <tr>\n",
       "      <th>Countess</th>\n",
       "      <td>0</td>\n",
       "      <td>1</td>\n",
       "    </tr>\n",
       "    <tr>\n",
       "      <th>Don</th>\n",
       "      <td>1</td>\n",
       "      <td>0</td>\n",
       "    </tr>\n",
       "    <tr>\n",
       "      <th>Dr</th>\n",
       "      <td>6</td>\n",
       "      <td>1</td>\n",
       "    </tr>\n",
       "    <tr>\n",
       "      <th>Jonkheer</th>\n",
       "      <td>1</td>\n",
       "      <td>0</td>\n",
       "    </tr>\n",
       "    <tr>\n",
       "      <th>Lady</th>\n",
       "      <td>0</td>\n",
       "      <td>1</td>\n",
       "    </tr>\n",
       "    <tr>\n",
       "      <th>Major</th>\n",
       "      <td>2</td>\n",
       "      <td>0</td>\n",
       "    </tr>\n",
       "    <tr>\n",
       "      <th>Master</th>\n",
       "      <td>40</td>\n",
       "      <td>0</td>\n",
       "    </tr>\n",
       "    <tr>\n",
       "      <th>Miss</th>\n",
       "      <td>0</td>\n",
       "      <td>182</td>\n",
       "    </tr>\n",
       "    <tr>\n",
       "      <th>Mlle</th>\n",
       "      <td>0</td>\n",
       "      <td>2</td>\n",
       "    </tr>\n",
       "    <tr>\n",
       "      <th>Mme</th>\n",
       "      <td>0</td>\n",
       "      <td>1</td>\n",
       "    </tr>\n",
       "    <tr>\n",
       "      <th>Mr</th>\n",
       "      <td>517</td>\n",
       "      <td>0</td>\n",
       "    </tr>\n",
       "    <tr>\n",
       "      <th>Mrs</th>\n",
       "      <td>0</td>\n",
       "      <td>125</td>\n",
       "    </tr>\n",
       "    <tr>\n",
       "      <th>Ms</th>\n",
       "      <td>0</td>\n",
       "      <td>1</td>\n",
       "    </tr>\n",
       "    <tr>\n",
       "      <th>Rev</th>\n",
       "      <td>6</td>\n",
       "      <td>0</td>\n",
       "    </tr>\n",
       "    <tr>\n",
       "      <th>Sir</th>\n",
       "      <td>1</td>\n",
       "      <td>0</td>\n",
       "    </tr>\n",
       "  </tbody>\n",
       "</table>\n",
       "</div>"
      ],
      "text/plain": [
       "Sex         0    1\n",
       "Title             \n",
       "Capt        1    0\n",
       "Col         2    0\n",
       "Countess    0    1\n",
       "Don         1    0\n",
       "Dr          6    1\n",
       "Jonkheer    1    0\n",
       "Lady        0    1\n",
       "Major       2    0\n",
       "Master     40    0\n",
       "Miss        0  182\n",
       "Mlle        0    2\n",
       "Mme         0    1\n",
       "Mr        517    0\n",
       "Mrs         0  125\n",
       "Ms          0    1\n",
       "Rev         6    0\n",
       "Sir         1    0"
      ]
     },
     "execution_count": 97,
     "metadata": {},
     "output_type": "execute_result"
    }
   ],
   "source": [
    "pd.crosstab(train[\"Title\"], train[\"Sex\"])"
   ]
  },
  {
   "cell_type": "code",
   "execution_count": 98,
   "metadata": {},
   "outputs": [
    {
     "data": {
      "text/plain": [
       "Pclass   -0.369226\n",
       "Sex      -0.093254\n",
       "SibSp    -0.308247\n",
       "Parch    -0.189119\n",
       "Fare      0.096067\n",
       "dtype: float64"
      ]
     },
     "execution_count": 98,
     "metadata": {},
     "output_type": "execute_result"
    }
   ],
   "source": [
    "train.loc[:, [\"Pclass\", \"Sex\", \"SibSp\", \"Parch\", \"Fare\"]].corrwith(train[\"Age\"])"
   ]
  },
  {
   "cell_type": "code",
   "execution_count": 5,
   "metadata": {},
   "outputs": [
    {
     "data": {
      "text/html": [
       "<div>\n",
       "<style scoped>\n",
       "    .dataframe tbody tr th:only-of-type {\n",
       "        vertical-align: middle;\n",
       "    }\n",
       "\n",
       "    .dataframe tbody tr th {\n",
       "        vertical-align: top;\n",
       "    }\n",
       "\n",
       "    .dataframe thead th {\n",
       "        text-align: right;\n",
       "    }\n",
       "</style>\n",
       "<table border=\"1\" class=\"dataframe\">\n",
       "  <thead>\n",
       "    <tr style=\"text-align: right;\">\n",
       "      <th></th>\n",
       "      <th>Survived</th>\n",
       "    </tr>\n",
       "    <tr>\n",
       "      <th>Pclass</th>\n",
       "      <th></th>\n",
       "    </tr>\n",
       "  </thead>\n",
       "  <tbody>\n",
       "    <tr>\n",
       "      <th>1</th>\n",
       "      <td>0.629630</td>\n",
       "    </tr>\n",
       "    <tr>\n",
       "      <th>2</th>\n",
       "      <td>0.472826</td>\n",
       "    </tr>\n",
       "    <tr>\n",
       "      <th>3</th>\n",
       "      <td>0.242363</td>\n",
       "    </tr>\n",
       "  </tbody>\n",
       "</table>\n",
       "</div>"
      ],
      "text/plain": [
       "        Survived\n",
       "Pclass          \n",
       "1       0.629630\n",
       "2       0.472826\n",
       "3       0.242363"
      ]
     },
     "execution_count": 5,
     "metadata": {},
     "output_type": "execute_result"
    }
   ],
   "source": [
    "train[[\"Pclass\", \"Survived\"]].groupby(\"Pclass\").mean().sort_values(by=\"Survived\", ascending=False)"
   ]
  },
  {
   "cell_type": "code",
   "execution_count": 6,
   "metadata": {},
   "outputs": [
    {
     "data": {
      "text/plain": [
       "3    491\n",
       "1    216\n",
       "2    184\n",
       "Name: Pclass, dtype: int64"
      ]
     },
     "execution_count": 6,
     "metadata": {},
     "output_type": "execute_result"
    }
   ],
   "source": [
    "train[\"Pclass\"].value_counts()"
   ]
  },
  {
   "cell_type": "code",
   "execution_count": 7,
   "metadata": {},
   "outputs": [
    {
     "data": {
      "text/html": [
       "<div>\n",
       "<style scoped>\n",
       "    .dataframe tbody tr th:only-of-type {\n",
       "        vertical-align: middle;\n",
       "    }\n",
       "\n",
       "    .dataframe tbody tr th {\n",
       "        vertical-align: top;\n",
       "    }\n",
       "\n",
       "    .dataframe thead th {\n",
       "        text-align: right;\n",
       "    }\n",
       "</style>\n",
       "<table border=\"1\" class=\"dataframe\">\n",
       "  <thead>\n",
       "    <tr style=\"text-align: right;\">\n",
       "      <th></th>\n",
       "      <th>Survived</th>\n",
       "    </tr>\n",
       "    <tr>\n",
       "      <th>Sex</th>\n",
       "      <th></th>\n",
       "    </tr>\n",
       "  </thead>\n",
       "  <tbody>\n",
       "    <tr>\n",
       "      <th>female</th>\n",
       "      <td>0.742038</td>\n",
       "    </tr>\n",
       "    <tr>\n",
       "      <th>male</th>\n",
       "      <td>0.188908</td>\n",
       "    </tr>\n",
       "  </tbody>\n",
       "</table>\n",
       "</div>"
      ],
      "text/plain": [
       "        Survived\n",
       "Sex             \n",
       "female  0.742038\n",
       "male    0.188908"
      ]
     },
     "execution_count": 7,
     "metadata": {},
     "output_type": "execute_result"
    }
   ],
   "source": [
    "train[[\"Sex\", \"Survived\"]].groupby(\"Sex\").mean().sort_values(by=\"Survived\", ascending=False)"
   ]
  },
  {
   "cell_type": "code",
   "execution_count": 8,
   "metadata": {},
   "outputs": [
    {
     "data": {
      "text/plain": [
       "<seaborn.axisgrid.FacetGrid at 0x8eb39df208>"
      ]
     },
     "execution_count": 8,
     "metadata": {},
     "output_type": "execute_result"
    },
    {
     "data": {
      "image/png": "[encoded data removed]",
      "text/plain": [
       "<matplotlib.figure.Figure at 0x8eb39df4e0>"
      ]
     },
     "metadata": {},
     "output_type": "display_data"
    }
   ],
   "source": [
    "p = seaborn.FacetGrid(train, col=\"Survived\")\n",
    "p.map(plt.hist, \"Age\", bins=40)"
   ]
  },
  {
   "cell_type": "code",
   "execution_count": 9,
   "metadata": {},
   "outputs": [
    {
     "data": {
      "text/plain": [
       "<matplotlib.axes._subplots.AxesSubplot at 0x8eb5b35eb8>"
      ]
     },
     "execution_count": 9,
     "metadata": {},
     "output_type": "execute_result"
    },
    {
     "data": {
      "image/png": "[encoded data removed]",
      "text/plain": [
       "<matplotlib.figure.Figure at 0x8eb5aeaf28>"
      ]
     },
     "metadata": {},
     "output_type": "display_data"
    }
   ],
   "source": [
    "train[[\"Age\", \"Survived\"]].groupby(\"Age\").mean().plot(kind=\"bar\", figsize=(15, 5))"
   ]
  },
  {
   "cell_type": "code",
   "execution_count": 10,
   "metadata": {},
   "outputs": [],
   "source": [
    "surv_by_age = train[[\"Age\", \"Survived\"]].groupby(\"Age\").mean()"
   ]
  },
  {
   "cell_type": "code",
   "execution_count": 11,
   "metadata": {},
   "outputs": [
    {
     "data": {
      "text/plain": [
       "<matplotlib.collections.PathCollection at 0x8eb5cf97f0>"
      ]
     },
     "execution_count": 11,
     "metadata": {},
     "output_type": "execute_result"
    },
    {
     "data": {
      "image/png": "[encoded data removed]",
      "text/plain": [
       "<matplotlib.figure.Figure at 0x8eb391d6d8>"
      ]
     },
     "metadata": {},
     "output_type": "display_data"
    }
   ],
   "source": [
    "plt.scatter(surv_by_age.index.values, surv_by_age.values)"
   ]
  },
  {
   "cell_type": "code",
   "execution_count": 27,
   "metadata": {},
   "outputs": [],
   "source": [
    "surv_by_age = surv_by_age.reset_index()"
   ]
  },
  {
   "cell_type": "code",
   "execution_count": 35,
   "metadata": {},
   "outputs": [
    {
     "data": {
      "image/png": "[encoded data removed]",
      "text/plain": [
       "<matplotlib.figure.Figure at 0x8ebd31aa20>"
      ]
     },
     "metadata": {},
     "output_type": "display_data"
    }
   ],
   "source": [
    "train.hist(bins=50, figsize=(20, 15))\n",
    "plt.show()"
   ]
  },
  {
   "cell_type": "code",
   "execution_count": 37,
   "metadata": {},
   "outputs": [],
   "source": [
    "corr_matrix = train.corr()"
   ]
  },
  {
   "cell_type": "code",
   "execution_count": 41,
   "metadata": {},
   "outputs": [
    {
     "data": {
      "text/plain": [
       "Survived    1.000000\n",
       "Fare        0.257307\n",
       "Parch       0.081629\n",
       "SibSp      -0.035322\n",
       "Age        -0.077221\n",
       "Pclass     -0.338481\n",
       "Name: Survived, dtype: float64"
      ]
     },
     "execution_count": 41,
     "metadata": {},
     "output_type": "execute_result"
    }
   ],
   "source": [
    "corr_matrix[\"Survived\"].sort_values(ascending=False)"
   ]
  },
  {
   "cell_type": "code",
   "execution_count": 42,
   "metadata": {},
   "outputs": [
    {
     "data": {
      "text/plain": [
       "Pclass      1.000000\n",
       "SibSp       0.083081\n",
       "Parch       0.018443\n",
       "Survived   -0.338481\n",
       "Age        -0.369226\n",
       "Fare       -0.549500\n",
       "Name: Pclass, dtype: float64"
      ]
     },
     "execution_count": 42,
     "metadata": {},
     "output_type": "execute_result"
    }
   ],
   "source": [
    "corr_matrix[\"Pclass\"].sort_values(ascending=False)"
   ]
  },
  {
   "cell_type": "markdown",
   "metadata": {},
   "source": [
    "### The naive approach\n",
    "Let's just setup a basic pipeline to get a minimal model working. We can then add new or change pieces to improve our model."
   ]
  },
  {
   "cell_type": "markdown",
   "metadata": {},
   "source": [
    "#### Prep the data"
   ]
  },
  {
   "cell_type": "code",
   "execution_count": 3,
   "metadata": {},
   "outputs": [],
   "source": [
    "def make_data(train, drop=None):\n",
    "    if drop is not None:\n",
    "        train = train.drop(drop, axis=1).copy()\n",
    "    train_X = train.drop(\"Survived\", axis=1).copy()\n",
    "    train_y = train[\"Survived\"].copy()\n",
    "    return train_X, train_y"
   ]
  },
  {
   "cell_type": "code",
   "execution_count": 4,
   "metadata": {},
   "outputs": [],
   "source": [
    "train_X, train_y = make_data(train)"
   ]
  },
  {
   "cell_type": "markdown",
   "metadata": {},
   "source": [
    "#### Make a pipeline"
   ]
  },
  {
   "cell_type": "code",
   "execution_count": 5,
   "metadata": {},
   "outputs": [],
   "source": [
    "class DataFrameSelector(BaseEstimator, TransformerMixin):\n",
    "    def __init__(self, attribute_names):\n",
    "        self.attribute_names = attribute_names\n",
    "        \n",
    "    def fit(self, X, y=None):\n",
    "        return self\n",
    "    \n",
    "    def transform(self, X):\n",
    "        return X.loc[:, self.attribute_names]"
   ]
  },
  {
   "cell_type": "code",
   "execution_count": 6,
   "metadata": {},
   "outputs": [],
   "source": [
    "class CategoryOneHotImputer(BaseEstimator, TransformerMixin):\n",
    "    def fit(self, X, y=None):\n",
    "        return self\n",
    "    \n",
    "    def transform(self, X):\n",
    "        encoded, categories = X.factorize()\n",
    "        imputer = Imputer(missing_values=-1, strategy=\"most_frequent\")\n",
    "        imputed = imputer.fit_transform(encoded.reshape(-1, 1)).astype(np.int64)\n",
    "        one_hotter = OneHotEncoder()\n",
    "        one_hot = one_hotter.fit_transform(imputed)\n",
    "        return one_hot"
   ]
  },
  {
   "cell_type": "code",
   "execution_count": 7,
   "metadata": {},
   "outputs": [],
   "source": [
    "def generate_numerics_pipeline(attribute_names, scaling=False):\n",
    "    pieces = [\n",
    "        ('selector', DataFrameSelector(attribute_names)),\n",
    "        ('imputer', Imputer(strategy=\"median\")),\n",
    "    ]\n",
    "    if scaling:\n",
    "        pieces.append(('std_scaler', StandardScaler()))\n",
    "    return Pipeline(pieces)"
   ]
  },
  {
   "cell_type": "code",
   "execution_count": 8,
   "metadata": {},
   "outputs": [],
   "source": [
    "def generate_categories_pipeline(attribute_name):\n",
    "    return Pipeline([\n",
    "        ('selector', DataFrameSelector(attribute_name)),\n",
    "        ('imputer_and_one_hotter', CategoryOneHotImputer()),\n",
    "    ])"
   ]
  },
  {
   "cell_type": "code",
   "execution_count": 65,
   "metadata": {},
   "outputs": [],
   "source": [
    "def ordinal_to_one_hot_pipeline(attribute_name):\n",
    "    return Pipeline([\n",
    "        ('selector', DataFrameSelector(attribute_name)),\n",
    "        ('one_hot', OneHotEncoder())\n",
    "    ])"
   ]
  },
  {
   "cell_type": "code",
   "execution_count": 66,
   "metadata": {},
   "outputs": [],
   "source": [
    "naive_pipeline = FeatureUnion(transformer_list=[\n",
    "    (\"num_no_scale_pipeline\", generate_numerics_pipeline([\"Parch\", \"Pclass\", \"SibSp\"])),\n",
    "    (\"num_scale_pipeline\", generate_numerics_pipeline([\"Age\", \"Fare\"], scaling=True)),\n",
    "    (\"sex_pipeline\", generate_categories_pipeline(\"Sex\")),\n",
    "    (\"embarked_pipeline\", generate_categories_pipeline(\"Embarked\")),\n",
    "])\n",
    "train_X_prep = naive_pipeline.fit_transform(train_X)"
   ]
  },
  {
   "cell_type": "code",
   "execution_count": 90,
   "metadata": {},
   "outputs": [],
   "source": [
    "def display_scores(scores):\n",
    "    print(\"Mean:\", scores.mean())\n",
    "    print(\"Standard deviation:\", scores.std())"
   ]
  },
  {
   "cell_type": "code",
   "execution_count": 12,
   "metadata": {},
   "outputs": [],
   "source": [
    "def test_model(model, X, y):\n",
    "    scores = cross_val_score(model, X, y, scoring=\"accuracy\", cv=10)\n",
    "    display_scores(scores)"
   ]
  },
  {
   "cell_type": "code",
   "execution_count": 84,
   "metadata": {},
   "outputs": [],
   "source": [
    "def test_pipeline(pipeline, X_og, y):\n",
    "    X = pipeline.fit_transform(X_og)\n",
    "    print(\"Logistic Regression\")\n",
    "    print(\"===================\")\n",
    "    test_model(LogisticRegression(), X, y)\n",
    "    print()\n",
    "    print(\"Random Forest\")\n",
    "    print(\"=============\")\n",
    "    test_model(RandomForestClassifier(n_estimators=500, max_leaf_nodes=16, n_jobs=4), X, y)"
   ]
  },
  {
   "cell_type": "markdown",
   "metadata": {},
   "source": [
    "#### Test a bunch of different models"
   ]
  },
  {
   "cell_type": "code",
   "execution_count": 74,
   "metadata": {},
   "outputs": [
    {
     "name": "stdout",
     "output_type": "stream",
     "text": [
      "Scores: [0.77777778 0.78888889 0.7752809  0.80898876 0.78651685 0.7752809\n",
      " 0.78651685 0.78651685 0.82022472 0.82954545]\n",
      "Mean: 0.7935537963908752\n",
      "Standard deviation: 0.018253693246381028\n"
     ]
    }
   ],
   "source": [
    "test_model(LogisticRegression(), train_X_prep, train_y)"
   ]
  },
  {
   "cell_type": "code",
   "execution_count": 75,
   "metadata": {
    "scrolled": true
   },
   "outputs": [
    {
     "name": "stdout",
     "output_type": "stream",
     "text": [
      "Scores: [0.73333333 0.65555556 0.70786517 0.78651685 0.82022472 0.78651685\n",
      " 0.75280899 0.42696629 0.7752809  0.82954545]\n",
      "Mean: 0.7274614118715244\n",
      "Standard deviation: 0.11172141145505768\n"
     ]
    }
   ],
   "source": [
    "test_model(SGDClassifier(max_iter=5, tol=None), train_X_prep, train_y)"
   ]
  },
  {
   "cell_type": "code",
   "execution_count": 76,
   "metadata": {},
   "outputs": [
    {
     "name": "stdout",
     "output_type": "stream",
     "text": [
      "Scores: [0.81111111 0.78888889 0.7752809  0.84269663 0.79775281 0.7752809\n",
      " 0.76404494 0.74157303 0.80898876 0.76136364]\n",
      "Mean: 0.7866981613891727\n",
      "Standard deviation: 0.027942239243488882\n"
     ]
    }
   ],
   "source": [
    "test_model(LinearSVC(C=1, loss=\"hinge\"), train_X_prep, train_y)"
   ]
  },
  {
   "cell_type": "code",
   "execution_count": null,
   "metadata": {},
   "outputs": [],
   "source": [
    "# This takes forever to run\n",
    "# test_model(SVC(kernel=\"poly\", degree=3, coef0=1, C=5), train_X_prep, train_y)"
   ]
  },
  {
   "cell_type": "code",
   "execution_count": 77,
   "metadata": {},
   "outputs": [
    {
     "name": "stdout",
     "output_type": "stream",
     "text": [
      "Scores: [0.61111111 0.61111111 0.61797753 0.61797753 0.61797753 0.61797753\n",
      " 0.61797753 0.61797753 0.61797753 0.61363636]\n",
      "Mean: 0.6161701282487799\n",
      "Standard deviation: 0.0028367962776526226\n"
     ]
    }
   ],
   "source": [
    "test_model(SVC(kernel=\"rbf\", gamma=5, C=0.001), train_X_prep, train_y)"
   ]
  },
  {
   "cell_type": "code",
   "execution_count": 78,
   "metadata": {},
   "outputs": [
    {
     "name": "stdout",
     "output_type": "stream",
     "text": [
      "Scores: [0.7        0.82222222 0.75280899 0.78651685 0.84269663 0.75280899\n",
      " 0.82022472 0.73033708 0.79775281 0.82954545]\n",
      "Mean: 0.7834913744183407\n",
      "Standard deviation: 0.04513004105558957\n"
     ]
    }
   ],
   "source": [
    "test_model(DecisionTreeClassifier(), train_X_prep, train_y)"
   ]
  },
  {
   "cell_type": "code",
   "execution_count": 79,
   "metadata": {},
   "outputs": [
    {
     "name": "stdout",
     "output_type": "stream",
     "text": [
      "Scores: [0.8        0.8        0.78651685 0.84269663 0.82022472 0.76404494\n",
      " 0.7752809  0.76404494 0.80898876 0.80681818]\n",
      "Mean: 0.7968615934627171\n",
      "Standard deviation: 0.0237469834997148\n"
     ]
    }
   ],
   "source": [
    "log_clf = LogisticRegression()\n",
    "rnd_clf = RandomForestClassifier()\n",
    "svm_clf = LinearSVC(C=1, loss=\"hinge\")\n",
    "\n",
    "voting_clf = VotingClassifier(\n",
    "    estimators=[('lr', log_clf), ('rf', rnd_clf), ('svc', svm_clf)],\n",
    "    voting='hard'\n",
    ")\n",
    "test_model(voting_clf, train_X_prep, train_y)"
   ]
  },
  {
   "cell_type": "code",
   "execution_count": 80,
   "metadata": {},
   "outputs": [
    {
     "name": "stdout",
     "output_type": "stream",
     "text": [
      "Scores: [0.78888889 0.82222222 0.7752809  0.88764045 0.88764045 0.82022472\n",
      " 0.83146067 0.7752809  0.85393258 0.84090909]\n",
      "Mean: 0.8283480876177507\n",
      "Standard deviation: 0.03891786036914392\n"
     ]
    }
   ],
   "source": [
    "# Can do boostrap=False for Pasting\n",
    "\n",
    "bag_clf = BaggingClassifier(\n",
    "    DecisionTreeClassifier(), \n",
    "    n_estimators=500,\n",
    "    max_samples=100,\n",
    "    bootstrap=True,\n",
    "    n_jobs=4\n",
    ")\n",
    "test_model(bag_clf, train_X_prep, train_y)"
   ]
  },
  {
   "cell_type": "code",
   "execution_count": 81,
   "metadata": {},
   "outputs": [
    {
     "name": "stdout",
     "output_type": "stream",
     "text": [
      "Scores: [0.8        0.83333333 0.76404494 0.91011236 0.86516854 0.80898876\n",
      " 0.82022472 0.7752809  0.85393258 0.84090909]\n",
      "Mean: 0.8271995233231187\n",
      "Standard deviation: 0.041304424940622635\n"
     ]
    }
   ],
   "source": [
    "rnd_clf = RandomForestClassifier(n_estimators=500, max_leaf_nodes=16, n_jobs=4)\n",
    "test_model(rnd_clf, train_X_prep, train_y)"
   ]
  },
  {
   "cell_type": "code",
   "execution_count": 82,
   "metadata": {},
   "outputs": [
    {
     "name": "stdout",
     "output_type": "stream",
     "text": [
      "Scores: [0.76666667 0.77777778 0.79775281 0.83146067 0.84269663 0.79775281\n",
      " 0.82022472 0.83146067 0.83146067 0.84090909]\n",
      "Mean: 0.813816252411758\n",
      "Standard deviation: 0.0256535901632698\n"
     ]
    }
   ],
   "source": [
    "ada_clf = AdaBoostClassifier(\n",
    "    DecisionTreeClassifier(max_depth=1),\n",
    "    n_estimators=200,\n",
    "    algorithm=\"SAMME.R\",\n",
    "    learning_rate=0.5,\n",
    ")\n",
    "test_model(ada_clf, train_X_prep, train_y)"
   ]
  },
  {
   "cell_type": "code",
   "execution_count": 83,
   "metadata": {},
   "outputs": [
    {
     "name": "stdout",
     "output_type": "stream",
     "text": [
      "Scores: [0.8        0.82222222 0.76404494 0.8988764  0.87640449 0.82022472\n",
      " 0.82022472 0.78651685 0.83146067 0.86363636]\n",
      "Mean: 0.828361139484735\n",
      "Standard deviation: 0.03923834294764922\n"
     ]
    }
   ],
   "source": [
    "gb_clf = GradientBoostingClassifier(max_depth=2, n_estimators=200)\n",
    "test_model(gb_clf, train_X_prep, train_y)"
   ]
  },
  {
   "cell_type": "markdown",
   "metadata": {},
   "source": [
    "#### Test a bunch of different pipelines"
   ]
  },
  {
   "cell_type": "code",
   "execution_count": 87,
   "metadata": {},
   "outputs": [
    {
     "name": "stdout",
     "output_type": "stream",
     "text": [
      "Logistic Regression\n",
      "===================\n",
      "Scores: [0.77777778 0.78888889 0.7752809  0.85393258 0.78651685 0.7752809\n",
      " 0.78651685 0.7752809  0.80898876 0.82954545]\n",
      "Mean: 0.795800987402111\n",
      "Standard deviation: 0.025495322372601256\n",
      "\n",
      "Random Forest\n",
      "=============\n",
      "Scores: [0.81111111 0.83333333 0.7752809  0.91011236 0.87640449 0.80898876\n",
      " 0.82022472 0.7752809  0.86516854 0.81818182]\n",
      "Mean: 0.8294086936783565\n",
      "Standard deviation: 0.0410337127772736\n"
     ]
    }
   ],
   "source": [
    "no_scale_pipeline = FeatureUnion(transformer_list=[\n",
    "    (\"num_no_scale_pipeline\", generate_numerics_pipeline([\"Parch\", \"Pclass\", \"SibSp\", \"Age\", \"Fare\"])),\n",
    "    (\"sex_pipeline\", generate_categories_pipeline(\"Sex\")),\n",
    "    (\"embarked_pipeline\", generate_categories_pipeline(\"Embarked\")),\n",
    "])\n",
    "test_pipeline(no_scale_pipeline, train_X, train_y)"
   ]
  },
  {
   "cell_type": "code",
   "execution_count": 88,
   "metadata": {},
   "outputs": [
    {
     "name": "stdout",
     "output_type": "stream",
     "text": [
      "Logistic Regression\n",
      "===================\n",
      "Scores: [0.77777778 0.78888889 0.7752809  0.84269663 0.78651685 0.7752809\n",
      " 0.78651685 0.7752809  0.82022472 0.82954545]\n",
      "Mean: 0.795800987402111\n",
      "Standard deviation: 0.023963794592429782\n",
      "\n",
      "Random Forest\n",
      "=============\n",
      "Scores: [0.81111111 0.83333333 0.7752809  0.88764045 0.86516854 0.80898876\n",
      " 0.82022472 0.7752809  0.86516854 0.82954545]\n",
      "Mean: 0.8271742707978662\n",
      "Standard deviation: 0.0355101708353035\n"
     ]
    }
   ],
   "source": [
    "scale_fare_pipeline = FeatureUnion(transformer_list=[\n",
    "    (\"num_no_scale_pipeline\", generate_numerics_pipeline([\"Parch\", \"Pclass\", \"SibSp\", \"Age\"])),\n",
    "    (\"num_scale_pipeline\", generate_numerics_pipeline([\"Fare\"], scaling=True)),\n",
    "    (\"sex_pipeline\", generate_categories_pipeline(\"Sex\")),\n",
    "    (\"embarked_pipeline\", generate_categories_pipeline(\"Embarked\")),\n",
    "])\n",
    "test_pipeline(scale_fare_pipeline, train_X, train_y)"
   ]
  },
  {
   "cell_type": "code",
   "execution_count": 89,
   "metadata": {},
   "outputs": [
    {
     "name": "stdout",
     "output_type": "stream",
     "text": [
      "Logistic Regression\n",
      "===================\n",
      "Scores: [0.77777778 0.78888889 0.7752809  0.84269663 0.78651685 0.7752809\n",
      " 0.78651685 0.7752809  0.82022472 0.82954545]\n",
      "Mean: 0.795800987402111\n",
      "Standard deviation: 0.023963794592429782\n",
      "\n",
      "Random Forest\n",
      "=============\n",
      "Scores: [0.81111111 0.84444444 0.7752809  0.8988764  0.87640449 0.80898876\n",
      " 0.82022472 0.7752809  0.86516854 0.82954545]\n",
      "Mean: 0.8305325729202133\n",
      "Standard deviation: 0.03901583387931108\n"
     ]
    }
   ],
   "source": [
    "scale_both_pipeline = FeatureUnion(transformer_list=[\n",
    "    (\"num_no_scale_pipeline\", generate_numerics_pipeline([\"Parch\", \"Pclass\", \"SibSp\"])),\n",
    "    (\"num_scale_pipeline\", generate_numerics_pipeline([\"Fare\", \"Age\"], scaling=True)),\n",
    "    (\"sex_pipeline\", generate_categories_pipeline(\"Sex\")),\n",
    "    (\"embarked_pipeline\", generate_categories_pipeline(\"Embarked\")),\n",
    "])\n",
    "test_pipeline(scale_fare_pipeline, train_X, train_y)"
   ]
  },
  {
   "cell_type": "code",
   "execution_count": 91,
   "metadata": {},
   "outputs": [
    {
     "name": "stdout",
     "output_type": "stream",
     "text": [
      "Logistic Regression\n",
      "===================\n",
      "Mean: 0.804777267052548\n",
      "Standard deviation: 0.01890125484307839\n",
      "\n",
      "Random Forest\n",
      "=============\n",
      "Mean: 0.8204826353421859\n",
      "Standard deviation: 0.043822915362327415\n"
     ]
    }
   ],
   "source": [
    "more_one_hots = FeatureUnion(transformer_list=[\n",
    "    (\"num_scale_pipeline\", generate_numerics_pipeline([\"Fare\", \"Age\"], scaling=True)),\n",
    "    (\"ord_to_one_hot\", ordinal_to_one_hot_pipeline([\"Parch\", \"Pclass\", \"SibSp\"])),\n",
    "    (\"sex_pipeline\", generate_categories_pipeline(\"Sex\")),\n",
    "    (\"embarked_pipeline\", generate_categories_pipeline(\"Embarked\")),\n",
    "])\n",
    "test_pipeline(more_one_hots, train_X, train_y)"
   ]
  },
  {
   "cell_type": "code",
   "execution_count": null,
   "metadata": {},
   "outputs": [],
   "source": []
  }
 ],
 "metadata": {
  "kernelspec": {
   "display_name": "Python 3",
   "language": "python",
   "name": "python3"
  },
  "language_info": {
   "codemirror_mode": {
    "name": "ipython",
    "version": 3
   },
   "file_extension": ".py",
   "mimetype": "text/x-python",
   "name": "python",
   "nbconvert_exporter": "python",
   "pygments_lexer": "ipython3",
   "version": "3.6.4"
  }
 },
 "nbformat": 4,
 "nbformat_minor": 2
}
