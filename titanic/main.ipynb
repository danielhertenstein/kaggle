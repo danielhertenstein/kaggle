{
 "cells": [
  {
   "cell_type": "code",
   "execution_count": 2,
   "metadata": {},
   "outputs": [],
   "source": [
    "import math\n",
    "import matplotlib.pyplot as plt\n",
    "import numpy as np\n",
    "import pandas as pd\n",
    "from scipy.stats import randint\n",
    "import seaborn\n",
    "\n",
    "from sklearn.base import BaseEstimator, TransformerMixin\n",
    "from sklearn.ensemble import (AdaBoostClassifier, BaggingClassifier, GradientBoostingClassifier, \n",
    "                              RandomForestClassifier, VotingClassifier)\n",
    "from sklearn.linear_model import LogisticRegression, SGDClassifier\n",
    "from sklearn.metrics import (accuracy_score, confusion_matrix, f1_score, precision_recall_curve, precision_score, \n",
    "                             recall_score, roc_auc_score, roc_curve)\n",
    "from sklearn.model_selection import cross_val_predict, cross_val_score, GridSearchCV, RandomizedSearchCV\n",
    "from sklearn.pipeline import FeatureUnion, Pipeline\n",
    "from sklearn.preprocessing import Imputer, OneHotEncoder, StandardScaler\n",
    "from sklearn.svm import LinearSVC, SVC\n",
    "from sklearn.tree import DecisionTreeClassifier, export_graphviz"
   ]
  },
  {
   "cell_type": "code",
   "execution_count": 3,
   "metadata": {},
   "outputs": [],
   "source": [
    "train = pd.read_csv(\"data/train.csv\", index_col=0)\n",
    "test = pd.read_csv(\"data/test.csv\", index_col=0)"
   ]
  },
  {
   "cell_type": "markdown",
   "metadata": {},
   "source": [
    "## Data Exploration"
   ]
  },
  {
   "cell_type": "code",
   "execution_count": 4,
   "metadata": {},
   "outputs": [
    {
     "data": {
      "text/html": [
       "<div>\n",
       "<style scoped>\n",
       "    .dataframe tbody tr th:only-of-type {\n",
       "        vertical-align: middle;\n",
       "    }\n",
       "\n",
       "    .dataframe tbody tr th {\n",
       "        vertical-align: top;\n",
       "    }\n",
       "\n",
       "    .dataframe thead th {\n",
       "        text-align: right;\n",
       "    }\n",
       "</style>\n",
       "<table border=\"1\" class=\"dataframe\">\n",
       "  <thead>\n",
       "    <tr style=\"text-align: right;\">\n",
       "      <th></th>\n",
       "      <th>Survived</th>\n",
       "      <th>Pclass</th>\n",
       "      <th>Name</th>\n",
       "      <th>Sex</th>\n",
       "      <th>Age</th>\n",
       "      <th>SibSp</th>\n",
       "      <th>Parch</th>\n",
       "      <th>Ticket</th>\n",
       "      <th>Fare</th>\n",
       "      <th>Cabin</th>\n",
       "      <th>Embarked</th>\n",
       "    </tr>\n",
       "    <tr>\n",
       "      <th>PassengerId</th>\n",
       "      <th></th>\n",
       "      <th></th>\n",
       "      <th></th>\n",
       "      <th></th>\n",
       "      <th></th>\n",
       "      <th></th>\n",
       "      <th></th>\n",
       "      <th></th>\n",
       "      <th></th>\n",
       "      <th></th>\n",
       "      <th></th>\n",
       "    </tr>\n",
       "  </thead>\n",
       "  <tbody>\n",
       "    <tr>\n",
       "      <th>1</th>\n",
       "      <td>0</td>\n",
       "      <td>3</td>\n",
       "      <td>Braund, Mr. Owen Harris</td>\n",
       "      <td>male</td>\n",
       "      <td>22.0</td>\n",
       "      <td>1</td>\n",
       "      <td>0</td>\n",
       "      <td>A/5 21171</td>\n",
       "      <td>7.2500</td>\n",
       "      <td>NaN</td>\n",
       "      <td>S</td>\n",
       "    </tr>\n",
       "    <tr>\n",
       "      <th>2</th>\n",
       "      <td>1</td>\n",
       "      <td>1</td>\n",
       "      <td>Cumings, Mrs. John Bradley (Florence Briggs Th...</td>\n",
       "      <td>female</td>\n",
       "      <td>38.0</td>\n",
       "      <td>1</td>\n",
       "      <td>0</td>\n",
       "      <td>PC 17599</td>\n",
       "      <td>71.2833</td>\n",
       "      <td>C85</td>\n",
       "      <td>C</td>\n",
       "    </tr>\n",
       "    <tr>\n",
       "      <th>3</th>\n",
       "      <td>1</td>\n",
       "      <td>3</td>\n",
       "      <td>Heikkinen, Miss. Laina</td>\n",
       "      <td>female</td>\n",
       "      <td>26.0</td>\n",
       "      <td>0</td>\n",
       "      <td>0</td>\n",
       "      <td>STON/O2. 3101282</td>\n",
       "      <td>7.9250</td>\n",
       "      <td>NaN</td>\n",
       "      <td>S</td>\n",
       "    </tr>\n",
       "    <tr>\n",
       "      <th>4</th>\n",
       "      <td>1</td>\n",
       "      <td>1</td>\n",
       "      <td>Futrelle, Mrs. Jacques Heath (Lily May Peel)</td>\n",
       "      <td>female</td>\n",
       "      <td>35.0</td>\n",
       "      <td>1</td>\n",
       "      <td>0</td>\n",
       "      <td>113803</td>\n",
       "      <td>53.1000</td>\n",
       "      <td>C123</td>\n",
       "      <td>S</td>\n",
       "    </tr>\n",
       "    <tr>\n",
       "      <th>5</th>\n",
       "      <td>0</td>\n",
       "      <td>3</td>\n",
       "      <td>Allen, Mr. William Henry</td>\n",
       "      <td>male</td>\n",
       "      <td>35.0</td>\n",
       "      <td>0</td>\n",
       "      <td>0</td>\n",
       "      <td>373450</td>\n",
       "      <td>8.0500</td>\n",
       "      <td>NaN</td>\n",
       "      <td>S</td>\n",
       "    </tr>\n",
       "  </tbody>\n",
       "</table>\n",
       "</div>"
      ],
      "text/plain": [
       "             Survived  Pclass  \\\n",
       "PassengerId                     \n",
       "1                   0       3   \n",
       "2                   1       1   \n",
       "3                   1       3   \n",
       "4                   1       1   \n",
       "5                   0       3   \n",
       "\n",
       "                                                          Name     Sex   Age  \\\n",
       "PassengerId                                                                    \n",
       "1                                      Braund, Mr. Owen Harris    male  22.0   \n",
       "2            Cumings, Mrs. John Bradley (Florence Briggs Th...  female  38.0   \n",
       "3                                       Heikkinen, Miss. Laina  female  26.0   \n",
       "4                 Futrelle, Mrs. Jacques Heath (Lily May Peel)  female  35.0   \n",
       "5                                     Allen, Mr. William Henry    male  35.0   \n",
       "\n",
       "             SibSp  Parch            Ticket     Fare Cabin Embarked  \n",
       "PassengerId                                                          \n",
       "1                1      0         A/5 21171   7.2500   NaN        S  \n",
       "2                1      0          PC 17599  71.2833   C85        C  \n",
       "3                0      0  STON/O2. 3101282   7.9250   NaN        S  \n",
       "4                1      0            113803  53.1000  C123        S  \n",
       "5                0      0            373450   8.0500   NaN        S  "
      ]
     },
     "execution_count": 4,
     "metadata": {},
     "output_type": "execute_result"
    }
   ],
   "source": [
    "train.head()"
   ]
  },
  {
   "cell_type": "code",
   "execution_count": 5,
   "metadata": {},
   "outputs": [
    {
     "name": "stdout",
     "output_type": "stream",
     "text": [
      "<class 'pandas.core.frame.DataFrame'>\n",
      "Int64Index: 891 entries, 1 to 891\n",
      "Data columns (total 11 columns):\n",
      "Survived    891 non-null int64\n",
      "Pclass      891 non-null int64\n",
      "Name        891 non-null object\n",
      "Sex         891 non-null object\n",
      "Age         714 non-null float64\n",
      "SibSp       891 non-null int64\n",
      "Parch       891 non-null int64\n",
      "Ticket      891 non-null object\n",
      "Fare        891 non-null float64\n",
      "Cabin       204 non-null object\n",
      "Embarked    889 non-null object\n",
      "dtypes: float64(2), int64(4), object(5)\n",
      "memory usage: 83.5+ KB\n"
     ]
    }
   ],
   "source": [
    "train.info()"
   ]
  },
  {
   "cell_type": "code",
   "execution_count": 6,
   "metadata": {},
   "outputs": [
    {
     "name": "stdout",
     "output_type": "stream",
     "text": [
      "<class 'pandas.core.frame.DataFrame'>\n",
      "Int64Index: 418 entries, 892 to 1309\n",
      "Data columns (total 10 columns):\n",
      "Pclass      418 non-null int64\n",
      "Name        418 non-null object\n",
      "Sex         418 non-null object\n",
      "Age         332 non-null float64\n",
      "SibSp       418 non-null int64\n",
      "Parch       418 non-null int64\n",
      "Ticket      418 non-null object\n",
      "Fare        417 non-null float64\n",
      "Cabin       91 non-null object\n",
      "Embarked    418 non-null object\n",
      "dtypes: float64(2), int64(3), object(5)\n",
      "memory usage: 35.9+ KB\n"
     ]
    }
   ],
   "source": [
    "test.info()"
   ]
  },
  {
   "cell_type": "markdown",
   "metadata": {},
   "source": [
    "Thoughts on columns:\n",
    "\n",
    "* Survived: What we're trying to predict\n",
    "* Pclass (Ticket class): We are told upper-class people were more likely to survive\n",
    "* Name: The titles within the names may be useful\n",
    "* Sex: We are told women were more likely to survive\n",
    "* Age: We are told children are more likely to survive. There are missing values for this variable. We may want to bin this variable.\n",
    "* SibSp (# of siblings / spouses aboard): Initial thought is that bigger families are less likely to survive due to time spent gathering people\n",
    "* Parch (# of parents / children aboard): Initial thought is that bigger families are less likely to survive due to time spent gathering people\n",
    "* Ticket (ticket number): No clue what this looks like\n",
    "* Fare: Probably correlated with Pclass. Hard to say if it will be useful.\n",
    "* Cabin (cabin number): Most values are missing. May not be able to impute without introducing significant bias. Still would be interesting to see if the data that exists is helpful.\n",
    "* Embarked (port): I feel like this shouldn't matter, though perhaps the people who embarked from each place were clustered in certain places in the ship."
   ]
  },
  {
   "cell_type": "code",
   "execution_count": 7,
   "metadata": {},
   "outputs": [],
   "source": [
    "# We will definitely want the Sex variable to be an integer for our explorations\n",
    "\n",
    "sex_mapping = {\"male\": 0, \"female\": 1}\n",
    "train[\"Sex\"] = train[\"Sex\"].map(sex_mapping)"
   ]
  },
  {
   "cell_type": "markdown",
   "metadata": {},
   "source": [
    "## Title Engineering\n",
    "\n",
    "Let's extract titles out of the Name variable. It looks like the titles are denoted by ending in a period."
   ]
  },
  {
   "cell_type": "code",
   "execution_count": 8,
   "metadata": {},
   "outputs": [],
   "source": [
    "train[\"Title\"] = train.Name.str.extract(' ([A-Za-z]+)\\.', expand=False)"
   ]
  },
  {
   "cell_type": "code",
   "execution_count": 9,
   "metadata": {},
   "outputs": [
    {
     "data": {
      "text/html": [
       "<div>\n",
       "<style scoped>\n",
       "    .dataframe tbody tr th:only-of-type {\n",
       "        vertical-align: middle;\n",
       "    }\n",
       "\n",
       "    .dataframe tbody tr th {\n",
       "        vertical-align: top;\n",
       "    }\n",
       "\n",
       "    .dataframe thead th {\n",
       "        text-align: right;\n",
       "    }\n",
       "</style>\n",
       "<table border=\"1\" class=\"dataframe\">\n",
       "  <thead>\n",
       "    <tr style=\"text-align: right;\">\n",
       "      <th>Sex</th>\n",
       "      <th>0</th>\n",
       "      <th>1</th>\n",
       "    </tr>\n",
       "    <tr>\n",
       "      <th>Title</th>\n",
       "      <th></th>\n",
       "      <th></th>\n",
       "    </tr>\n",
       "  </thead>\n",
       "  <tbody>\n",
       "    <tr>\n",
       "      <th>Capt</th>\n",
       "      <td>1</td>\n",
       "      <td>0</td>\n",
       "    </tr>\n",
       "    <tr>\n",
       "      <th>Col</th>\n",
       "      <td>2</td>\n",
       "      <td>0</td>\n",
       "    </tr>\n",
       "    <tr>\n",
       "      <th>Countess</th>\n",
       "      <td>0</td>\n",
       "      <td>1</td>\n",
       "    </tr>\n",
       "    <tr>\n",
       "      <th>Don</th>\n",
       "      <td>1</td>\n",
       "      <td>0</td>\n",
       "    </tr>\n",
       "    <tr>\n",
       "      <th>Dr</th>\n",
       "      <td>6</td>\n",
       "      <td>1</td>\n",
       "    </tr>\n",
       "    <tr>\n",
       "      <th>Jonkheer</th>\n",
       "      <td>1</td>\n",
       "      <td>0</td>\n",
       "    </tr>\n",
       "    <tr>\n",
       "      <th>Lady</th>\n",
       "      <td>0</td>\n",
       "      <td>1</td>\n",
       "    </tr>\n",
       "    <tr>\n",
       "      <th>Major</th>\n",
       "      <td>2</td>\n",
       "      <td>0</td>\n",
       "    </tr>\n",
       "    <tr>\n",
       "      <th>Master</th>\n",
       "      <td>40</td>\n",
       "      <td>0</td>\n",
       "    </tr>\n",
       "    <tr>\n",
       "      <th>Miss</th>\n",
       "      <td>0</td>\n",
       "      <td>182</td>\n",
       "    </tr>\n",
       "    <tr>\n",
       "      <th>Mlle</th>\n",
       "      <td>0</td>\n",
       "      <td>2</td>\n",
       "    </tr>\n",
       "    <tr>\n",
       "      <th>Mme</th>\n",
       "      <td>0</td>\n",
       "      <td>1</td>\n",
       "    </tr>\n",
       "    <tr>\n",
       "      <th>Mr</th>\n",
       "      <td>517</td>\n",
       "      <td>0</td>\n",
       "    </tr>\n",
       "    <tr>\n",
       "      <th>Mrs</th>\n",
       "      <td>0</td>\n",
       "      <td>125</td>\n",
       "    </tr>\n",
       "    <tr>\n",
       "      <th>Ms</th>\n",
       "      <td>0</td>\n",
       "      <td>1</td>\n",
       "    </tr>\n",
       "    <tr>\n",
       "      <th>Rev</th>\n",
       "      <td>6</td>\n",
       "      <td>0</td>\n",
       "    </tr>\n",
       "    <tr>\n",
       "      <th>Sir</th>\n",
       "      <td>1</td>\n",
       "      <td>0</td>\n",
       "    </tr>\n",
       "  </tbody>\n",
       "</table>\n",
       "</div>"
      ],
      "text/plain": [
       "Sex         0    1\n",
       "Title             \n",
       "Capt        1    0\n",
       "Col         2    0\n",
       "Countess    0    1\n",
       "Don         1    0\n",
       "Dr          6    1\n",
       "Jonkheer    1    0\n",
       "Lady        0    1\n",
       "Major       2    0\n",
       "Master     40    0\n",
       "Miss        0  182\n",
       "Mlle        0    2\n",
       "Mme         0    1\n",
       "Mr        517    0\n",
       "Mrs         0  125\n",
       "Ms          0    1\n",
       "Rev         6    0\n",
       "Sir         1    0"
      ]
     },
     "execution_count": 9,
     "metadata": {},
     "output_type": "execute_result"
    }
   ],
   "source": [
    "pd.crosstab(train[\"Title\"], train[\"Sex\"])"
   ]
  },
  {
   "cell_type": "code",
   "execution_count": 10,
   "metadata": {},
   "outputs": [],
   "source": [
    "# Let's get rid of some of the redundant titles and group the rarer ones\n",
    "\n",
    "title_mapping_1 = {\n",
    "    \"Mlle\": \"Miss\", \"Mme\": \"Mrs\", \"Ms\": \"Miss\", \"Capt\": \"Military\", \"Col\": \"Military\", \"Major\": \"Military\", \n",
    "    \"Countess\": \"Nobility\", \"Don\": \"Nobility\", \"Dr\": \"Medical\", \"Jonkheer\": \"Nobility\", \"Lady\": \"Nobility\",\n",
    "    \"Rev\": \"Religous\", \"Sir\": \"Nobility\"\n",
    "}\n",
    "for from_title, to_title in title_mapping_1.items():    \n",
    "    train.loc[train.Title == from_title, \"Title\"] = to_title"
   ]
  },
  {
   "cell_type": "code",
   "execution_count": 11,
   "metadata": {},
   "outputs": [
    {
     "data": {
      "text/plain": [
       "Mr          517\n",
       "Miss        185\n",
       "Mrs         126\n",
       "Master       40\n",
       "Medical       7\n",
       "Religous      6\n",
       "Nobility      5\n",
       "Military      5\n",
       "Name: Title, dtype: int64"
      ]
     },
     "execution_count": 11,
     "metadata": {},
     "output_type": "execute_result"
    }
   ],
   "source": [
    "train[\"Title\"].value_counts(ascending=False)"
   ]
  },
  {
   "cell_type": "code",
   "execution_count": 12,
   "metadata": {},
   "outputs": [
    {
     "data": {
      "text/html": [
       "<div>\n",
       "<style scoped>\n",
       "    .dataframe tbody tr th:only-of-type {\n",
       "        vertical-align: middle;\n",
       "    }\n",
       "\n",
       "    .dataframe tbody tr th {\n",
       "        vertical-align: top;\n",
       "    }\n",
       "\n",
       "    .dataframe thead th {\n",
       "        text-align: right;\n",
       "    }\n",
       "</style>\n",
       "<table border=\"1\" class=\"dataframe\">\n",
       "  <thead>\n",
       "    <tr style=\"text-align: right;\">\n",
       "      <th></th>\n",
       "      <th>Survived</th>\n",
       "    </tr>\n",
       "    <tr>\n",
       "      <th>Title</th>\n",
       "      <th></th>\n",
       "    </tr>\n",
       "  </thead>\n",
       "  <tbody>\n",
       "    <tr>\n",
       "      <th>Mrs</th>\n",
       "      <td>0.793651</td>\n",
       "    </tr>\n",
       "    <tr>\n",
       "      <th>Miss</th>\n",
       "      <td>0.702703</td>\n",
       "    </tr>\n",
       "    <tr>\n",
       "      <th>Nobility</th>\n",
       "      <td>0.600000</td>\n",
       "    </tr>\n",
       "    <tr>\n",
       "      <th>Master</th>\n",
       "      <td>0.575000</td>\n",
       "    </tr>\n",
       "    <tr>\n",
       "      <th>Medical</th>\n",
       "      <td>0.428571</td>\n",
       "    </tr>\n",
       "    <tr>\n",
       "      <th>Military</th>\n",
       "      <td>0.400000</td>\n",
       "    </tr>\n",
       "    <tr>\n",
       "      <th>Mr</th>\n",
       "      <td>0.156673</td>\n",
       "    </tr>\n",
       "    <tr>\n",
       "      <th>Religous</th>\n",
       "      <td>0.000000</td>\n",
       "    </tr>\n",
       "  </tbody>\n",
       "</table>\n",
       "</div>"
      ],
      "text/plain": [
       "          Survived\n",
       "Title             \n",
       "Mrs       0.793651\n",
       "Miss      0.702703\n",
       "Nobility  0.600000\n",
       "Master    0.575000\n",
       "Medical   0.428571\n",
       "Military  0.400000\n",
       "Mr        0.156673\n",
       "Religous  0.000000"
      ]
     },
     "execution_count": 12,
     "metadata": {},
     "output_type": "execute_result"
    }
   ],
   "source": [
    "train[[\"Title\", \"Survived\"]].groupby(\"Title\").mean().sort_values(by=\"Survived\", ascending=False)"
   ]
  },
  {
   "cell_type": "markdown",
   "metadata": {},
   "source": [
    "## Pclass Exploration\n",
    "\n",
    "The notes say Pclass is important. Is it?"
   ]
  },
  {
   "cell_type": "code",
   "execution_count": 13,
   "metadata": {},
   "outputs": [
    {
     "data": {
      "text/html": [
       "<div>\n",
       "<style scoped>\n",
       "    .dataframe tbody tr th:only-of-type {\n",
       "        vertical-align: middle;\n",
       "    }\n",
       "\n",
       "    .dataframe tbody tr th {\n",
       "        vertical-align: top;\n",
       "    }\n",
       "\n",
       "    .dataframe thead th {\n",
       "        text-align: right;\n",
       "    }\n",
       "</style>\n",
       "<table border=\"1\" class=\"dataframe\">\n",
       "  <thead>\n",
       "    <tr style=\"text-align: right;\">\n",
       "      <th></th>\n",
       "      <th>Survived</th>\n",
       "    </tr>\n",
       "    <tr>\n",
       "      <th>Pclass</th>\n",
       "      <th></th>\n",
       "    </tr>\n",
       "  </thead>\n",
       "  <tbody>\n",
       "    <tr>\n",
       "      <th>1</th>\n",
       "      <td>0.629630</td>\n",
       "    </tr>\n",
       "    <tr>\n",
       "      <th>2</th>\n",
       "      <td>0.472826</td>\n",
       "    </tr>\n",
       "    <tr>\n",
       "      <th>3</th>\n",
       "      <td>0.242363</td>\n",
       "    </tr>\n",
       "  </tbody>\n",
       "</table>\n",
       "</div>"
      ],
      "text/plain": [
       "        Survived\n",
       "Pclass          \n",
       "1       0.629630\n",
       "2       0.472826\n",
       "3       0.242363"
      ]
     },
     "execution_count": 13,
     "metadata": {},
     "output_type": "execute_result"
    }
   ],
   "source": [
    "train[[\"Pclass\", \"Survived\"]].groupby(\"Pclass\").mean().sort_values(by=\"Survived\", ascending=False)"
   ]
  },
  {
   "cell_type": "code",
   "execution_count": 14,
   "metadata": {},
   "outputs": [
    {
     "data": {
      "text/plain": [
       "3    491\n",
       "1    216\n",
       "2    184\n",
       "Name: Pclass, dtype: int64"
      ]
     },
     "execution_count": 14,
     "metadata": {},
     "output_type": "execute_result"
    }
   ],
   "source": [
    "train[\"Pclass\"].value_counts()"
   ]
  },
  {
   "cell_type": "markdown",
   "metadata": {},
   "source": [
    "## Sex Exploration\n",
    "\n",
    "The notes say sex is important. Is it?"
   ]
  },
  {
   "cell_type": "code",
   "execution_count": 15,
   "metadata": {},
   "outputs": [
    {
     "data": {
      "text/html": [
       "<div>\n",
       "<style scoped>\n",
       "    .dataframe tbody tr th:only-of-type {\n",
       "        vertical-align: middle;\n",
       "    }\n",
       "\n",
       "    .dataframe tbody tr th {\n",
       "        vertical-align: top;\n",
       "    }\n",
       "\n",
       "    .dataframe thead th {\n",
       "        text-align: right;\n",
       "    }\n",
       "</style>\n",
       "<table border=\"1\" class=\"dataframe\">\n",
       "  <thead>\n",
       "    <tr style=\"text-align: right;\">\n",
       "      <th></th>\n",
       "      <th>Survived</th>\n",
       "    </tr>\n",
       "    <tr>\n",
       "      <th>Sex</th>\n",
       "      <th></th>\n",
       "    </tr>\n",
       "  </thead>\n",
       "  <tbody>\n",
       "    <tr>\n",
       "      <th>1</th>\n",
       "      <td>0.742038</td>\n",
       "    </tr>\n",
       "    <tr>\n",
       "      <th>0</th>\n",
       "      <td>0.188908</td>\n",
       "    </tr>\n",
       "  </tbody>\n",
       "</table>\n",
       "</div>"
      ],
      "text/plain": [
       "     Survived\n",
       "Sex          \n",
       "1    0.742038\n",
       "0    0.188908"
      ]
     },
     "execution_count": 15,
     "metadata": {},
     "output_type": "execute_result"
    }
   ],
   "source": [
    "train[[\"Sex\", \"Survived\"]].groupby(\"Sex\").mean().sort_values(by=\"Survived\", ascending=False)"
   ]
  },
  {
   "cell_type": "markdown",
   "metadata": {},
   "source": [
    "## Age Imputation\n",
    "\n",
    "How can we fill in the missing ages? Some combination of Title and Pclass?"
   ]
  },
  {
   "cell_type": "code",
   "execution_count": 16,
   "metadata": {},
   "outputs": [
    {
     "data": {
      "text/plain": [
       "array([[<matplotlib.axes._subplots.AxesSubplot object at 0x000000B767252B70>,\n",
       "        <matplotlib.axes._subplots.AxesSubplot object at 0x000000B7692DD7F0>,\n",
       "        <matplotlib.axes._subplots.AxesSubplot object at 0x000000B769316B38>],\n",
       "       [<matplotlib.axes._subplots.AxesSubplot object at 0x000000B769348B38>,\n",
       "        <matplotlib.axes._subplots.AxesSubplot object at 0x000000B769381A20>,\n",
       "        <matplotlib.axes._subplots.AxesSubplot object at 0x000000B769381A58>],\n",
       "       [<matplotlib.axes._subplots.AxesSubplot object at 0x000000B7693F2940>,\n",
       "        <matplotlib.axes._subplots.AxesSubplot object at 0x000000B76938DDA0>,\n",
       "        <matplotlib.axes._subplots.AxesSubplot object at 0x000000B769454EF0>]],\n",
       "      dtype=object)"
      ]
     },
     "execution_count": 16,
     "metadata": {},
     "output_type": "execute_result"
    },
    {
     "data": {
      "image/png": "[encoded data removed]",
      "text/plain": [
       "<matplotlib.figure.Figure at 0xb76727fd68>"
      ]
     },
     "metadata": {},
     "output_type": "display_data"
    }
   ],
   "source": [
    "train.hist(\"Age\", by=\"Title\", bins=20, figsize=(20, 10), sharex=True)"
   ]
  },
  {
   "cell_type": "code",
   "execution_count": 17,
   "metadata": {},
   "outputs": [
    {
     "data": {
      "text/plain": [
       "Mr         119\n",
       "Miss        36\n",
       "Mrs         17\n",
       "Master       4\n",
       "Medical      1\n",
       "Name: Title, dtype: int64"
      ]
     },
     "execution_count": 17,
     "metadata": {},
     "output_type": "execute_result"
    }
   ],
   "source": [
    "no_ages = np.isnan(train.Age.values)\n",
    "train.loc[no_ages, \"Title\"].value_counts()"
   ]
  },
  {
   "cell_type": "code",
   "execution_count": 18,
   "metadata": {},
   "outputs": [
    {
     "data": {
      "text/html": [
       "<div>\n",
       "<style scoped>\n",
       "    .dataframe tbody tr th:only-of-type {\n",
       "        vertical-align: middle;\n",
       "    }\n",
       "\n",
       "    .dataframe tbody tr th {\n",
       "        vertical-align: top;\n",
       "    }\n",
       "\n",
       "    .dataframe thead th {\n",
       "        text-align: right;\n",
       "    }\n",
       "</style>\n",
       "<table border=\"1\" class=\"dataframe\">\n",
       "  <thead>\n",
       "    <tr style=\"text-align: right;\">\n",
       "      <th>Pclass</th>\n",
       "      <th>1</th>\n",
       "      <th>2</th>\n",
       "      <th>3</th>\n",
       "    </tr>\n",
       "    <tr>\n",
       "      <th>Title</th>\n",
       "      <th></th>\n",
       "      <th></th>\n",
       "      <th></th>\n",
       "    </tr>\n",
       "  </thead>\n",
       "  <tbody>\n",
       "    <tr>\n",
       "      <th>Master</th>\n",
       "      <td>0</td>\n",
       "      <td>0</td>\n",
       "      <td>4</td>\n",
       "    </tr>\n",
       "    <tr>\n",
       "      <th>Medical</th>\n",
       "      <td>1</td>\n",
       "      <td>0</td>\n",
       "      <td>0</td>\n",
       "    </tr>\n",
       "    <tr>\n",
       "      <th>Miss</th>\n",
       "      <td>1</td>\n",
       "      <td>2</td>\n",
       "      <td>33</td>\n",
       "    </tr>\n",
       "    <tr>\n",
       "      <th>Mr</th>\n",
       "      <td>20</td>\n",
       "      <td>9</td>\n",
       "      <td>90</td>\n",
       "    </tr>\n",
       "    <tr>\n",
       "      <th>Mrs</th>\n",
       "      <td>8</td>\n",
       "      <td>0</td>\n",
       "      <td>9</td>\n",
       "    </tr>\n",
       "  </tbody>\n",
       "</table>\n",
       "</div>"
      ],
      "text/plain": [
       "Pclass    1  2   3\n",
       "Title             \n",
       "Master    0  0   4\n",
       "Medical   1  0   0\n",
       "Miss      1  2  33\n",
       "Mr       20  9  90\n",
       "Mrs       8  0   9"
      ]
     },
     "execution_count": 18,
     "metadata": {},
     "output_type": "execute_result"
    }
   ],
   "source": [
    "pd.crosstab(train.loc[no_ages, \"Title\"], train.loc[no_ages, \"Pclass\"])"
   ]
  },
  {
   "cell_type": "code",
   "execution_count": 19,
   "metadata": {},
   "outputs": [
    {
     "data": {
      "text/plain": [
       "array([<matplotlib.axes._subplots.AxesSubplot object at 0x000000B76955AF98>,\n",
       "       <matplotlib.axes._subplots.AxesSubplot object at 0x000000B769C57860>,\n",
       "       <matplotlib.axes._subplots.AxesSubplot object at 0x000000B769707710>],\n",
       "      dtype=object)"
      ]
     },
     "execution_count": 19,
     "metadata": {},
     "output_type": "execute_result"
    },
    {
     "data": {
      "image/png": "[encoded data removed]",
      "text/plain": [
       "<matplotlib.figure.Figure at 0xb769511b38>"
      ]
     },
     "metadata": {},
     "output_type": "display_data"
    }
   ],
   "source": [
    "masters = train.loc[train.Title == \"Master\", :]\n",
    "masters.hist(\"Age\", by=\"Pclass\", bins=20, sharex=True, sharey=True, layout=(1, 3), figsize=(20, 5))"
   ]
  },
  {
   "cell_type": "code",
   "execution_count": 20,
   "metadata": {},
   "outputs": [
    {
     "data": {
      "text/html": [
       "<div>\n",
       "<style scoped>\n",
       "    .dataframe tbody tr th:only-of-type {\n",
       "        vertical-align: middle;\n",
       "    }\n",
       "\n",
       "    .dataframe tbody tr th {\n",
       "        vertical-align: top;\n",
       "    }\n",
       "\n",
       "    .dataframe thead th {\n",
       "        text-align: right;\n",
       "    }\n",
       "</style>\n",
       "<table border=\"1\" class=\"dataframe\">\n",
       "  <thead>\n",
       "    <tr style=\"text-align: right;\">\n",
       "      <th></th>\n",
       "      <th>Age</th>\n",
       "    </tr>\n",
       "    <tr>\n",
       "      <th>Pclass</th>\n",
       "      <th></th>\n",
       "    </tr>\n",
       "  </thead>\n",
       "  <tbody>\n",
       "    <tr>\n",
       "      <th>1</th>\n",
       "      <td>4.0</td>\n",
       "    </tr>\n",
       "    <tr>\n",
       "      <th>2</th>\n",
       "      <td>1.0</td>\n",
       "    </tr>\n",
       "    <tr>\n",
       "      <th>3</th>\n",
       "      <td>4.0</td>\n",
       "    </tr>\n",
       "  </tbody>\n",
       "</table>\n",
       "</div>"
      ],
      "text/plain": [
       "        Age\n",
       "Pclass     \n",
       "1       4.0\n",
       "2       1.0\n",
       "3       4.0"
      ]
     },
     "execution_count": 20,
     "metadata": {},
     "output_type": "execute_result"
    }
   ],
   "source": [
    "masters[[\"Age\", \"Pclass\"]].groupby(\"Pclass\").median()"
   ]
  },
  {
   "cell_type": "code",
   "execution_count": 21,
   "metadata": {},
   "outputs": [
    {
     "data": {
      "text/plain": [
       "array([[<matplotlib.axes._subplots.AxesSubplot object at 0x000000B7694FF438>]],\n",
       "      dtype=object)"
      ]
     },
     "execution_count": 21,
     "metadata": {},
     "output_type": "execute_result"
    },
    {
     "data": {
      "image/png": "[encoded data removed]",
      "text/plain": [
       "<matplotlib.figure.Figure at 0xb76727f748>"
      ]
     },
     "metadata": {},
     "output_type": "display_data"
    }
   ],
   "source": [
    "masters.hist(\"Age\", bins=20)"
   ]
  },
  {
   "cell_type": "code",
   "execution_count": 22,
   "metadata": {},
   "outputs": [
    {
     "data": {
      "text/plain": [
       "3.5"
      ]
     },
     "execution_count": 22,
     "metadata": {},
     "output_type": "execute_result"
    }
   ],
   "source": [
    "masters.Age.median()"
   ]
  },
  {
   "cell_type": "code",
   "execution_count": 23,
   "metadata": {},
   "outputs": [
    {
     "data": {
      "text/plain": [
       "array([<matplotlib.axes._subplots.AxesSubplot object at 0x000000B7698259E8>,\n",
       "       <matplotlib.axes._subplots.AxesSubplot object at 0x000000B769896BE0>,\n",
       "       <matplotlib.axes._subplots.AxesSubplot object at 0x000000B7698D2940>],\n",
       "      dtype=object)"
      ]
     },
     "execution_count": 23,
     "metadata": {},
     "output_type": "execute_result"
    },
    {
     "data": {
      "image/png": "[encoded data removed]",
      "text/plain": [
       "<matplotlib.figure.Figure at 0xb769798a58>"
      ]
     },
     "metadata": {},
     "output_type": "display_data"
    }
   ],
   "source": [
    "medicals = train.loc[train.Title == \"Medical\", :]\n",
    "medicals.hist(\"Age\", by=\"Pclass\", bins=20, sharex=True, sharey=True, layout=(1, 3), figsize=(20, 5))"
   ]
  },
  {
   "cell_type": "code",
   "execution_count": 24,
   "metadata": {},
   "outputs": [
    {
     "data": {
      "text/html": [
       "<div>\n",
       "<style scoped>\n",
       "    .dataframe tbody tr th:only-of-type {\n",
       "        vertical-align: middle;\n",
       "    }\n",
       "\n",
       "    .dataframe tbody tr th {\n",
       "        vertical-align: top;\n",
       "    }\n",
       "\n",
       "    .dataframe thead th {\n",
       "        text-align: right;\n",
       "    }\n",
       "</style>\n",
       "<table border=\"1\" class=\"dataframe\">\n",
       "  <thead>\n",
       "    <tr style=\"text-align: right;\">\n",
       "      <th></th>\n",
       "      <th>Age</th>\n",
       "    </tr>\n",
       "    <tr>\n",
       "      <th>Pclass</th>\n",
       "      <th></th>\n",
       "    </tr>\n",
       "  </thead>\n",
       "  <tbody>\n",
       "    <tr>\n",
       "      <th>1</th>\n",
       "      <td>46.5</td>\n",
       "    </tr>\n",
       "    <tr>\n",
       "      <th>2</th>\n",
       "      <td>38.5</td>\n",
       "    </tr>\n",
       "  </tbody>\n",
       "</table>\n",
       "</div>"
      ],
      "text/plain": [
       "         Age\n",
       "Pclass      \n",
       "1       46.5\n",
       "2       38.5"
      ]
     },
     "execution_count": 24,
     "metadata": {},
     "output_type": "execute_result"
    }
   ],
   "source": [
    "medicals[[\"Age\", \"Pclass\"]].groupby(\"Pclass\").median()"
   ]
  },
  {
   "cell_type": "code",
   "execution_count": 25,
   "metadata": {},
   "outputs": [
    {
     "data": {
      "text/plain": [
       "46.5"
      ]
     },
     "execution_count": 25,
     "metadata": {},
     "output_type": "execute_result"
    }
   ],
   "source": [
    "medicals.Age.median()"
   ]
  },
  {
   "cell_type": "code",
   "execution_count": 26,
   "metadata": {},
   "outputs": [
    {
     "data": {
      "text/plain": [
       "array([<matplotlib.axes._subplots.AxesSubplot object at 0x000000B76994D4E0>,\n",
       "       <matplotlib.axes._subplots.AxesSubplot object at 0x000000B769A18518>,\n",
       "       <matplotlib.axes._subplots.AxesSubplot object at 0x000000B76A0D2278>],\n",
       "      dtype=object)"
      ]
     },
     "execution_count": 26,
     "metadata": {},
     "output_type": "execute_result"
    },
    {
     "data": {
      "image/png": "[encoded data removed]",
      "text/plain": [
       "<matplotlib.figure.Figure at 0xb76998a828>"
      ]
     },
     "metadata": {},
     "output_type": "display_data"
    }
   ],
   "source": [
    "miss = train.loc[train.Title == \"Miss\", :]\n",
    "miss.hist(\"Age\", by=\"Pclass\", bins=20, sharex=True, sharey=True, layout=(1, 3), figsize=(20, 5))"
   ]
  },
  {
   "cell_type": "code",
   "execution_count": 27,
   "metadata": {},
   "outputs": [
    {
     "data": {
      "text/html": [
       "<div>\n",
       "<style scoped>\n",
       "    .dataframe tbody tr th:only-of-type {\n",
       "        vertical-align: middle;\n",
       "    }\n",
       "\n",
       "    .dataframe tbody tr th {\n",
       "        vertical-align: top;\n",
       "    }\n",
       "\n",
       "    .dataframe thead th {\n",
       "        text-align: right;\n",
       "    }\n",
       "</style>\n",
       "<table border=\"1\" class=\"dataframe\">\n",
       "  <thead>\n",
       "    <tr style=\"text-align: right;\">\n",
       "      <th></th>\n",
       "      <th>Age</th>\n",
       "    </tr>\n",
       "    <tr>\n",
       "      <th>Pclass</th>\n",
       "      <th></th>\n",
       "    </tr>\n",
       "  </thead>\n",
       "  <tbody>\n",
       "    <tr>\n",
       "      <th>1</th>\n",
       "      <td>30.0</td>\n",
       "    </tr>\n",
       "    <tr>\n",
       "      <th>2</th>\n",
       "      <td>24.0</td>\n",
       "    </tr>\n",
       "    <tr>\n",
       "      <th>3</th>\n",
       "      <td>18.0</td>\n",
       "    </tr>\n",
       "  </tbody>\n",
       "</table>\n",
       "</div>"
      ],
      "text/plain": [
       "         Age\n",
       "Pclass      \n",
       "1       30.0\n",
       "2       24.0\n",
       "3       18.0"
      ]
     },
     "execution_count": 27,
     "metadata": {},
     "output_type": "execute_result"
    }
   ],
   "source": [
    "miss[[\"Age\", \"Pclass\"]].groupby(\"Pclass\").median()"
   ]
  },
  {
   "cell_type": "code",
   "execution_count": 28,
   "metadata": {},
   "outputs": [
    {
     "data": {
      "text/plain": [
       "array([<matplotlib.axes._subplots.AxesSubplot object at 0x000000B76A1C1CF8>,\n",
       "       <matplotlib.axes._subplots.AxesSubplot object at 0x000000B76A45C160>,\n",
       "       <matplotlib.axes._subplots.AxesSubplot object at 0x000000B76A207E80>],\n",
       "      dtype=object)"
      ]
     },
     "execution_count": 28,
     "metadata": {},
     "output_type": "execute_result"
    },
    {
     "data": {
      "image/png": "[encoded data removed]",
      "text/plain": [
       "<matplotlib.figure.Figure at 0xb76a420978>"
      ]
     },
     "metadata": {},
     "output_type": "display_data"
    }
   ],
   "source": [
    "mr = train.loc[train.Title == \"Mr\", :]\n",
    "mr.hist(\"Age\", by=\"Pclass\", bins=20, sharex=True, sharey=True, layout=(1, 3), figsize=(20, 5))"
   ]
  },
  {
   "cell_type": "code",
   "execution_count": 29,
   "metadata": {},
   "outputs": [
    {
     "data": {
      "text/html": [
       "<div>\n",
       "<style scoped>\n",
       "    .dataframe tbody tr th:only-of-type {\n",
       "        vertical-align: middle;\n",
       "    }\n",
       "\n",
       "    .dataframe tbody tr th {\n",
       "        vertical-align: top;\n",
       "    }\n",
       "\n",
       "    .dataframe thead th {\n",
       "        text-align: right;\n",
       "    }\n",
       "</style>\n",
       "<table border=\"1\" class=\"dataframe\">\n",
       "  <thead>\n",
       "    <tr style=\"text-align: right;\">\n",
       "      <th></th>\n",
       "      <th>Age</th>\n",
       "    </tr>\n",
       "    <tr>\n",
       "      <th>Pclass</th>\n",
       "      <th></th>\n",
       "    </tr>\n",
       "  </thead>\n",
       "  <tbody>\n",
       "    <tr>\n",
       "      <th>1</th>\n",
       "      <td>40.0</td>\n",
       "    </tr>\n",
       "    <tr>\n",
       "      <th>2</th>\n",
       "      <td>31.0</td>\n",
       "    </tr>\n",
       "    <tr>\n",
       "      <th>3</th>\n",
       "      <td>26.0</td>\n",
       "    </tr>\n",
       "  </tbody>\n",
       "</table>\n",
       "</div>"
      ],
      "text/plain": [
       "         Age\n",
       "Pclass      \n",
       "1       40.0\n",
       "2       31.0\n",
       "3       26.0"
      ]
     },
     "execution_count": 29,
     "metadata": {},
     "output_type": "execute_result"
    }
   ],
   "source": [
    "mr[[\"Age\", \"Pclass\"]].groupby(\"Pclass\").median()"
   ]
  },
  {
   "cell_type": "code",
   "execution_count": 30,
   "metadata": {},
   "outputs": [
    {
     "data": {
      "text/plain": [
       "array([<matplotlib.axes._subplots.AxesSubplot object at 0x000000B76A1C1E80>,\n",
       "       <matplotlib.axes._subplots.AxesSubplot object at 0x000000B76A3A6CF8>,\n",
       "       <matplotlib.axes._subplots.AxesSubplot object at 0x000000B76A5E3A58>],\n",
       "      dtype=object)"
      ]
     },
     "execution_count": 30,
     "metadata": {},
     "output_type": "execute_result"
    },
    {
     "data": {
      "image/png": "[encoded data removed]",
      "text/plain": [
       "<matplotlib.figure.Figure at 0xb76a32af60>"
      ]
     },
     "metadata": {},
     "output_type": "display_data"
    }
   ],
   "source": [
    "mrs = train.loc[train.Title == \"Mrs\", :]\n",
    "mrs.hist(\"Age\", by=\"Pclass\", bins=20, sharex=True, sharey=True, layout=(1, 3), figsize=(20, 5))"
   ]
  },
  {
   "cell_type": "code",
   "execution_count": 31,
   "metadata": {},
   "outputs": [
    {
     "data": {
      "text/html": [
       "<div>\n",
       "<style scoped>\n",
       "    .dataframe tbody tr th:only-of-type {\n",
       "        vertical-align: middle;\n",
       "    }\n",
       "\n",
       "    .dataframe tbody tr th {\n",
       "        vertical-align: top;\n",
       "    }\n",
       "\n",
       "    .dataframe thead th {\n",
       "        text-align: right;\n",
       "    }\n",
       "</style>\n",
       "<table border=\"1\" class=\"dataframe\">\n",
       "  <thead>\n",
       "    <tr style=\"text-align: right;\">\n",
       "      <th></th>\n",
       "      <th>Age</th>\n",
       "    </tr>\n",
       "    <tr>\n",
       "      <th>Pclass</th>\n",
       "      <th></th>\n",
       "    </tr>\n",
       "  </thead>\n",
       "  <tbody>\n",
       "    <tr>\n",
       "      <th>1</th>\n",
       "      <td>40.0</td>\n",
       "    </tr>\n",
       "    <tr>\n",
       "      <th>2</th>\n",
       "      <td>32.0</td>\n",
       "    </tr>\n",
       "    <tr>\n",
       "      <th>3</th>\n",
       "      <td>31.0</td>\n",
       "    </tr>\n",
       "  </tbody>\n",
       "</table>\n",
       "</div>"
      ],
      "text/plain": [
       "         Age\n",
       "Pclass      \n",
       "1       40.0\n",
       "2       32.0\n",
       "3       31.0"
      ]
     },
     "execution_count": 31,
     "metadata": {},
     "output_type": "execute_result"
    }
   ],
   "source": [
    "mrs[[\"Age\", \"Pclass\"]].groupby(\"Pclass\").median()"
   ]
  },
  {
   "cell_type": "code",
   "execution_count": 32,
   "metadata": {},
   "outputs": [],
   "source": [
    "def get_median_age(data, person, by):\n",
    "    if len(by) > 1:\n",
    "        matching_params = tuple(getattr(person, attribute) for attribute in by)\n",
    "    else:\n",
    "        matching_params = getattr(person, by[0])\n",
    "    median = data[[\"Age\"] + by].groupby(by).median().loc[matching_params, \"Age\"]\n",
    "    return median"
   ]
  },
  {
   "cell_type": "code",
   "execution_count": 33,
   "metadata": {},
   "outputs": [
    {
     "name": "stdout",
     "output_type": "stream",
     "text": [
      "Pandas(Index=6, Title='Mr', Pclass=3)\n",
      "26.0\n",
      "Pandas(Index=18, Title='Mr', Pclass=2)\n",
      "31.0\n",
      "Pandas(Index=20, Title='Mrs', Pclass=3)\n",
      "31.0\n",
      "Pandas(Index=29, Title='Miss', Pclass=3)\n",
      "18.0\n",
      "Pandas(Index=32, Title='Mrs', Pclass=1)\n",
      "40.0\n",
      "Pandas(Index=56, Title='Mr', Pclass=1)\n",
      "40.0\n",
      "Pandas(Index=66, Title='Master', Pclass=3)\n",
      "3.5\n",
      "Pandas(Index=304, Title='Miss', Pclass=2)\n",
      "24.0\n",
      "Pandas(Index=307, Title='Miss', Pclass=1)\n",
      "30.0\n",
      "Pandas(Index=767, Title='Medical', Pclass=1)\n",
      "46.5\n"
     ]
    }
   ],
   "source": [
    "for combo in train.loc[no_ages, [\"Title\", \"Pclass\"]].drop_duplicates().itertuples():\n",
    "    print(combo)\n",
    "    if combo.Title in [\"Master\", \"Medical\"]:\n",
    "        median_age = get_median_age(train, combo, [\"Title\"])\n",
    "    else:\n",
    "        median_age = get_median_age(train, combo, [\"Title\", \"Pclass\"])\n",
    "    print(median_age)\n",
    "    train.loc[no_ages & (train.Title == combo.Title) & (train.Pclass == combo.Pclass), \"Age\"] = median_age"
   ]
  },
  {
   "cell_type": "markdown",
   "metadata": {},
   "source": [
    "## Age Binning\n",
    "\n",
    "Can we use machine learning to tell us what the best bins for the age variable are?"
   ]
  },
  {
   "cell_type": "code",
   "execution_count": 34,
   "metadata": {},
   "outputs": [
    {
     "name": "stdout",
     "output_type": "stream",
     "text": [
      "Fitting 3 folds for each of 3 candidates, totalling 9 fits\n"
     ]
    },
    {
     "name": "stderr",
     "output_type": "stream",
     "text": [
      "[Parallel(n_jobs=6)]: Done   9 out of   9 | elapsed:    2.5s finished\n"
     ]
    },
    {
     "data": {
      "text/plain": [
       "GridSearchCV(cv=None, error_score='raise',\n",
       "       estimator=DecisionTreeClassifier(class_weight=None, criterion='gini', max_depth=None,\n",
       "            max_features=None, max_leaf_nodes=None,\n",
       "            min_impurity_decrease=0.0, min_impurity_split=None,\n",
       "            min_samples_leaf=1, min_samples_split=2,\n",
       "            min_weight_fraction_leaf=0.0, presort=False, random_state=None,\n",
       "            splitter='best'),\n",
       "       fit_params=None, iid=True, n_jobs=6,\n",
       "       param_grid={'max_depth': [1, 2, 3]}, pre_dispatch='2*n_jobs',\n",
       "       refit=True, return_train_score='warn', scoring=None, verbose=1)"
      ]
     },
     "execution_count": 34,
     "metadata": {},
     "output_type": "execute_result"
    }
   ],
   "source": [
    "params = {\n",
    "    \"max_depth\": list(range(1, 4))\n",
    "}\n",
    "random_search_cv = GridSearchCV(DecisionTreeClassifier(), params, n_jobs=6, verbose=1)\n",
    "random_search_cv.fit(train.Age.values.reshape(-1, 1), train.Survived)"
   ]
  },
  {
   "cell_type": "code",
   "execution_count": 35,
   "metadata": {},
   "outputs": [
    {
     "data": {
      "text/plain": [
       "DecisionTreeClassifier(class_weight=None, criterion='gini', max_depth=3,\n",
       "            max_features=None, max_leaf_nodes=None,\n",
       "            min_impurity_decrease=0.0, min_impurity_split=None,\n",
       "            min_samples_leaf=1, min_samples_split=2,\n",
       "            min_weight_fraction_leaf=0.0, presort=False, random_state=None,\n",
       "            splitter='best')"
      ]
     },
     "execution_count": 35,
     "metadata": {},
     "output_type": "execute_result"
    }
   ],
   "source": [
    "random_search_cv.best_estimator_"
   ]
  },
  {
   "cell_type": "code",
   "execution_count": 36,
   "metadata": {},
   "outputs": [],
   "source": [
    "export_graphviz(\n",
    "    random_search_cv.best_estimator_,\n",
    "    out_file=\"age_tree.dot\",\n",
    "    feature_names=[\"Age\"],\n",
    "    class_names=[\"Died\", \"Survived\"],\n",
    "    rounded=True,\n",
    "    filled=True\n",
    ")"
   ]
  },
  {
   "cell_type": "markdown",
   "metadata": {},
   "source": [
    "Our best estimate shows gives us 2, 3, or 4 age cutoffs:\n",
    "* <= 0.96 (Small population size)\n",
    "* <= 6.5\n",
    "* <= 68\n",
    "* \\> 68 (Small population size)"
   ]
  },
  {
   "cell_type": "markdown",
   "metadata": {},
   "source": [
    "## Cabin Number\n",
    "\n",
    "Can we do anything with the cabin numbers? Looks like the first letter is the deck level."
   ]
  },
  {
   "cell_type": "code",
   "execution_count": 37,
   "metadata": {},
   "outputs": [],
   "source": [
    "train[\"Deck\"] = train.Cabin.astype(str).str[0]"
   ]
  },
  {
   "cell_type": "code",
   "execution_count": 38,
   "metadata": {},
   "outputs": [
    {
     "data": {
      "text/html": [
       "<div>\n",
       "<style scoped>\n",
       "    .dataframe tbody tr th:only-of-type {\n",
       "        vertical-align: middle;\n",
       "    }\n",
       "\n",
       "    .dataframe tbody tr th {\n",
       "        vertical-align: top;\n",
       "    }\n",
       "\n",
       "    .dataframe thead th {\n",
       "        text-align: right;\n",
       "    }\n",
       "</style>\n",
       "<table border=\"1\" class=\"dataframe\">\n",
       "  <thead>\n",
       "    <tr style=\"text-align: right;\">\n",
       "      <th></th>\n",
       "      <th>Survived</th>\n",
       "    </tr>\n",
       "    <tr>\n",
       "      <th>Deck</th>\n",
       "      <th></th>\n",
       "    </tr>\n",
       "  </thead>\n",
       "  <tbody>\n",
       "    <tr>\n",
       "      <th>D</th>\n",
       "      <td>0.757576</td>\n",
       "    </tr>\n",
       "    <tr>\n",
       "      <th>E</th>\n",
       "      <td>0.750000</td>\n",
       "    </tr>\n",
       "    <tr>\n",
       "      <th>B</th>\n",
       "      <td>0.744681</td>\n",
       "    </tr>\n",
       "    <tr>\n",
       "      <th>F</th>\n",
       "      <td>0.615385</td>\n",
       "    </tr>\n",
       "    <tr>\n",
       "      <th>C</th>\n",
       "      <td>0.593220</td>\n",
       "    </tr>\n",
       "    <tr>\n",
       "      <th>G</th>\n",
       "      <td>0.500000</td>\n",
       "    </tr>\n",
       "    <tr>\n",
       "      <th>A</th>\n",
       "      <td>0.466667</td>\n",
       "    </tr>\n",
       "    <tr>\n",
       "      <th>n</th>\n",
       "      <td>0.299854</td>\n",
       "    </tr>\n",
       "    <tr>\n",
       "      <th>T</th>\n",
       "      <td>0.000000</td>\n",
       "    </tr>\n",
       "  </tbody>\n",
       "</table>\n",
       "</div>"
      ],
      "text/plain": [
       "      Survived\n",
       "Deck          \n",
       "D     0.757576\n",
       "E     0.750000\n",
       "B     0.744681\n",
       "F     0.615385\n",
       "C     0.593220\n",
       "G     0.500000\n",
       "A     0.466667\n",
       "n     0.299854\n",
       "T     0.000000"
      ]
     },
     "execution_count": 38,
     "metadata": {},
     "output_type": "execute_result"
    }
   ],
   "source": [
    "train[[\"Deck\", \"Survived\"]].groupby(\"Deck\").mean().sort_values(by=\"Survived\", ascending=False)"
   ]
  },
  {
   "cell_type": "code",
   "execution_count": 39,
   "metadata": {},
   "outputs": [
    {
     "data": {
      "text/html": [
       "<div>\n",
       "<style scoped>\n",
       "    .dataframe tbody tr th:only-of-type {\n",
       "        vertical-align: middle;\n",
       "    }\n",
       "\n",
       "    .dataframe tbody tr th {\n",
       "        vertical-align: top;\n",
       "    }\n",
       "\n",
       "    .dataframe thead th {\n",
       "        text-align: right;\n",
       "    }\n",
       "</style>\n",
       "<table border=\"1\" class=\"dataframe\">\n",
       "  <thead>\n",
       "    <tr style=\"text-align: right;\">\n",
       "      <th>Pclass</th>\n",
       "      <th>1</th>\n",
       "      <th>2</th>\n",
       "      <th>3</th>\n",
       "    </tr>\n",
       "    <tr>\n",
       "      <th>Deck</th>\n",
       "      <th></th>\n",
       "      <th></th>\n",
       "      <th></th>\n",
       "    </tr>\n",
       "  </thead>\n",
       "  <tbody>\n",
       "    <tr>\n",
       "      <th>A</th>\n",
       "      <td>15</td>\n",
       "      <td>0</td>\n",
       "      <td>0</td>\n",
       "    </tr>\n",
       "    <tr>\n",
       "      <th>B</th>\n",
       "      <td>47</td>\n",
       "      <td>0</td>\n",
       "      <td>0</td>\n",
       "    </tr>\n",
       "    <tr>\n",
       "      <th>C</th>\n",
       "      <td>59</td>\n",
       "      <td>0</td>\n",
       "      <td>0</td>\n",
       "    </tr>\n",
       "    <tr>\n",
       "      <th>D</th>\n",
       "      <td>29</td>\n",
       "      <td>4</td>\n",
       "      <td>0</td>\n",
       "    </tr>\n",
       "    <tr>\n",
       "      <th>E</th>\n",
       "      <td>25</td>\n",
       "      <td>4</td>\n",
       "      <td>3</td>\n",
       "    </tr>\n",
       "    <tr>\n",
       "      <th>F</th>\n",
       "      <td>0</td>\n",
       "      <td>8</td>\n",
       "      <td>5</td>\n",
       "    </tr>\n",
       "    <tr>\n",
       "      <th>G</th>\n",
       "      <td>0</td>\n",
       "      <td>0</td>\n",
       "      <td>4</td>\n",
       "    </tr>\n",
       "    <tr>\n",
       "      <th>T</th>\n",
       "      <td>1</td>\n",
       "      <td>0</td>\n",
       "      <td>0</td>\n",
       "    </tr>\n",
       "    <tr>\n",
       "      <th>n</th>\n",
       "      <td>40</td>\n",
       "      <td>168</td>\n",
       "      <td>479</td>\n",
       "    </tr>\n",
       "  </tbody>\n",
       "</table>\n",
       "</div>"
      ],
      "text/plain": [
       "Pclass   1    2    3\n",
       "Deck                \n",
       "A       15    0    0\n",
       "B       47    0    0\n",
       "C       59    0    0\n",
       "D       29    4    0\n",
       "E       25    4    3\n",
       "F        0    8    5\n",
       "G        0    0    4\n",
       "T        1    0    0\n",
       "n       40  168  479"
      ]
     },
     "execution_count": 39,
     "metadata": {},
     "output_type": "execute_result"
    }
   ],
   "source": [
    "pd.crosstab(train[\"Deck\"], train[\"Pclass\"])"
   ]
  },
  {
   "cell_type": "code",
   "execution_count": 40,
   "metadata": {},
   "outputs": [],
   "source": [
    "cabins = train.loc[train.Cabin.notnull(), :]"
   ]
  },
  {
   "cell_type": "code",
   "execution_count": 41,
   "metadata": {
    "scrolled": true
   },
   "outputs": [
    {
     "data": {
      "text/html": [
       "<div>\n",
       "<style scoped>\n",
       "    .dataframe tbody tr th:only-of-type {\n",
       "        vertical-align: middle;\n",
       "    }\n",
       "\n",
       "    .dataframe tbody tr th {\n",
       "        vertical-align: top;\n",
       "    }\n",
       "\n",
       "    .dataframe thead th {\n",
       "        text-align: right;\n",
       "    }\n",
       "</style>\n",
       "<table border=\"1\" class=\"dataframe\">\n",
       "  <thead>\n",
       "    <tr style=\"text-align: right;\">\n",
       "      <th></th>\n",
       "      <th>Survived</th>\n",
       "    </tr>\n",
       "    <tr>\n",
       "      <th>Deck</th>\n",
       "      <th></th>\n",
       "    </tr>\n",
       "  </thead>\n",
       "  <tbody>\n",
       "    <tr>\n",
       "      <th>D</th>\n",
       "      <td>0.757576</td>\n",
       "    </tr>\n",
       "    <tr>\n",
       "      <th>E</th>\n",
       "      <td>0.750000</td>\n",
       "    </tr>\n",
       "    <tr>\n",
       "      <th>B</th>\n",
       "      <td>0.744681</td>\n",
       "    </tr>\n",
       "    <tr>\n",
       "      <th>F</th>\n",
       "      <td>0.615385</td>\n",
       "    </tr>\n",
       "    <tr>\n",
       "      <th>C</th>\n",
       "      <td>0.593220</td>\n",
       "    </tr>\n",
       "    <tr>\n",
       "      <th>G</th>\n",
       "      <td>0.500000</td>\n",
       "    </tr>\n",
       "    <tr>\n",
       "      <th>A</th>\n",
       "      <td>0.466667</td>\n",
       "    </tr>\n",
       "    <tr>\n",
       "      <th>T</th>\n",
       "      <td>0.000000</td>\n",
       "    </tr>\n",
       "  </tbody>\n",
       "</table>\n",
       "</div>"
      ],
      "text/plain": [
       "      Survived\n",
       "Deck          \n",
       "D     0.757576\n",
       "E     0.750000\n",
       "B     0.744681\n",
       "F     0.615385\n",
       "C     0.593220\n",
       "G     0.500000\n",
       "A     0.466667\n",
       "T     0.000000"
      ]
     },
     "execution_count": 41,
     "metadata": {},
     "output_type": "execute_result"
    }
   ],
   "source": [
    "cabins[[\"Deck\", \"Survived\"]].groupby(\"Deck\").mean().sort_values(by=\"Survived\", ascending=False)"
   ]
  },
  {
   "cell_type": "code",
   "execution_count": 42,
   "metadata": {},
   "outputs": [
    {
     "data": {
      "text/plain": [
       "C    59\n",
       "B    47\n",
       "D    33\n",
       "E    32\n",
       "A    15\n",
       "F    13\n",
       "G     4\n",
       "T     1\n",
       "Name: Deck, dtype: int64"
      ]
     },
     "execution_count": 42,
     "metadata": {},
     "output_type": "execute_result"
    }
   ],
   "source": [
    "cabins.Deck.value_counts()"
   ]
  },
  {
   "cell_type": "code",
   "execution_count": 43,
   "metadata": {},
   "outputs": [
    {
     "data": {
      "text/html": [
       "<div>\n",
       "<style scoped>\n",
       "    .dataframe tbody tr th:only-of-type {\n",
       "        vertical-align: middle;\n",
       "    }\n",
       "\n",
       "    .dataframe tbody tr th {\n",
       "        vertical-align: top;\n",
       "    }\n",
       "\n",
       "    .dataframe thead th {\n",
       "        text-align: right;\n",
       "    }\n",
       "</style>\n",
       "<table border=\"1\" class=\"dataframe\">\n",
       "  <thead>\n",
       "    <tr style=\"text-align: right;\">\n",
       "      <th>Pclass</th>\n",
       "      <th>1</th>\n",
       "      <th>2</th>\n",
       "      <th>3</th>\n",
       "    </tr>\n",
       "    <tr>\n",
       "      <th>Deck</th>\n",
       "      <th></th>\n",
       "      <th></th>\n",
       "      <th></th>\n",
       "    </tr>\n",
       "  </thead>\n",
       "  <tbody>\n",
       "    <tr>\n",
       "      <th>A</th>\n",
       "      <td>15</td>\n",
       "      <td>0</td>\n",
       "      <td>0</td>\n",
       "    </tr>\n",
       "    <tr>\n",
       "      <th>B</th>\n",
       "      <td>47</td>\n",
       "      <td>0</td>\n",
       "      <td>0</td>\n",
       "    </tr>\n",
       "    <tr>\n",
       "      <th>C</th>\n",
       "      <td>59</td>\n",
       "      <td>0</td>\n",
       "      <td>0</td>\n",
       "    </tr>\n",
       "    <tr>\n",
       "      <th>D</th>\n",
       "      <td>29</td>\n",
       "      <td>4</td>\n",
       "      <td>0</td>\n",
       "    </tr>\n",
       "    <tr>\n",
       "      <th>E</th>\n",
       "      <td>25</td>\n",
       "      <td>4</td>\n",
       "      <td>3</td>\n",
       "    </tr>\n",
       "    <tr>\n",
       "      <th>F</th>\n",
       "      <td>0</td>\n",
       "      <td>8</td>\n",
       "      <td>5</td>\n",
       "    </tr>\n",
       "    <tr>\n",
       "      <th>G</th>\n",
       "      <td>0</td>\n",
       "      <td>0</td>\n",
       "      <td>4</td>\n",
       "    </tr>\n",
       "    <tr>\n",
       "      <th>T</th>\n",
       "      <td>1</td>\n",
       "      <td>0</td>\n",
       "      <td>0</td>\n",
       "    </tr>\n",
       "  </tbody>\n",
       "</table>\n",
       "</div>"
      ],
      "text/plain": [
       "Pclass   1  2  3\n",
       "Deck            \n",
       "A       15  0  0\n",
       "B       47  0  0\n",
       "C       59  0  0\n",
       "D       29  4  0\n",
       "E       25  4  3\n",
       "F        0  8  5\n",
       "G        0  0  4\n",
       "T        1  0  0"
      ]
     },
     "execution_count": 43,
     "metadata": {},
     "output_type": "execute_result"
    }
   ],
   "source": [
    "pd.crosstab(cabins[\"Deck\"], cabins[\"Pclass\"])"
   ]
  },
  {
   "cell_type": "markdown",
   "metadata": {},
   "source": [
    "## Family Size\n",
    "\n",
    "Can the SibSp and Parch variables be combined to give better information?"
   ]
  },
  {
   "cell_type": "code",
   "execution_count": 44,
   "metadata": {},
   "outputs": [
    {
     "data": {
      "text/plain": [
       "array([[<matplotlib.axes._subplots.AxesSubplot object at 0x000000B76A7352E8>,\n",
       "        <matplotlib.axes._subplots.AxesSubplot object at 0x000000B76A795A20>]],\n",
       "      dtype=object)"
      ]
     },
     "execution_count": 44,
     "metadata": {},
     "output_type": "execute_result"
    },
    {
     "data": {
      "image/png": "[encoded data removed]",
      "text/plain": [
       "<matplotlib.figure.Figure at 0xb76a7167f0>"
      ]
     },
     "metadata": {},
     "output_type": "display_data"
    }
   ],
   "source": [
    "train.hist([\"SibSp\", \"Parch\"], sharex=True, sharey=True, figsize=(10, 5))"
   ]
  },
  {
   "cell_type": "code",
   "execution_count": 45,
   "metadata": {},
   "outputs": [
    {
     "data": {
      "text/plain": [
       "1     537\n",
       "2     161\n",
       "3     102\n",
       "4      29\n",
       "6      22\n",
       "5      15\n",
       "7      12\n",
       "11      7\n",
       "8       6\n",
       "Name: Family_Size, dtype: int64"
      ]
     },
     "execution_count": 45,
     "metadata": {},
     "output_type": "execute_result"
    }
   ],
   "source": [
    "train[\"Family_Size\"] = train[\"SibSp\"] + train[\"Parch\"] + 1\n",
    "train.Family_Size.value_counts()"
   ]
  },
  {
   "cell_type": "code",
   "execution_count": 46,
   "metadata": {},
   "outputs": [
    {
     "data": {
      "text/html": [
       "<div>\n",
       "<style scoped>\n",
       "    .dataframe tbody tr th:only-of-type {\n",
       "        vertical-align: middle;\n",
       "    }\n",
       "\n",
       "    .dataframe tbody tr th {\n",
       "        vertical-align: top;\n",
       "    }\n",
       "\n",
       "    .dataframe thead th {\n",
       "        text-align: right;\n",
       "    }\n",
       "</style>\n",
       "<table border=\"1\" class=\"dataframe\">\n",
       "  <thead>\n",
       "    <tr style=\"text-align: right;\">\n",
       "      <th></th>\n",
       "      <th>Survived</th>\n",
       "    </tr>\n",
       "    <tr>\n",
       "      <th>SibSp</th>\n",
       "      <th></th>\n",
       "    </tr>\n",
       "  </thead>\n",
       "  <tbody>\n",
       "    <tr>\n",
       "      <th>0</th>\n",
       "      <td>0.345395</td>\n",
       "    </tr>\n",
       "    <tr>\n",
       "      <th>1</th>\n",
       "      <td>0.535885</td>\n",
       "    </tr>\n",
       "    <tr>\n",
       "      <th>2</th>\n",
       "      <td>0.464286</td>\n",
       "    </tr>\n",
       "    <tr>\n",
       "      <th>3</th>\n",
       "      <td>0.250000</td>\n",
       "    </tr>\n",
       "    <tr>\n",
       "      <th>4</th>\n",
       "      <td>0.166667</td>\n",
       "    </tr>\n",
       "    <tr>\n",
       "      <th>5</th>\n",
       "      <td>0.000000</td>\n",
       "    </tr>\n",
       "    <tr>\n",
       "      <th>8</th>\n",
       "      <td>0.000000</td>\n",
       "    </tr>\n",
       "  </tbody>\n",
       "</table>\n",
       "</div>"
      ],
      "text/plain": [
       "       Survived\n",
       "SibSp          \n",
       "0      0.345395\n",
       "1      0.535885\n",
       "2      0.464286\n",
       "3      0.250000\n",
       "4      0.166667\n",
       "5      0.000000\n",
       "8      0.000000"
      ]
     },
     "execution_count": 46,
     "metadata": {},
     "output_type": "execute_result"
    }
   ],
   "source": [
    "train[[\"SibSp\", \"Survived\"]].groupby(\"SibSp\").mean().sort_values(by=\"Survived\").sort_index()"
   ]
  },
  {
   "cell_type": "code",
   "execution_count": 47,
   "metadata": {},
   "outputs": [
    {
     "data": {
      "text/html": [
       "<div>\n",
       "<style scoped>\n",
       "    .dataframe tbody tr th:only-of-type {\n",
       "        vertical-align: middle;\n",
       "    }\n",
       "\n",
       "    .dataframe tbody tr th {\n",
       "        vertical-align: top;\n",
       "    }\n",
       "\n",
       "    .dataframe thead th {\n",
       "        text-align: right;\n",
       "    }\n",
       "</style>\n",
       "<table border=\"1\" class=\"dataframe\">\n",
       "  <thead>\n",
       "    <tr style=\"text-align: right;\">\n",
       "      <th></th>\n",
       "      <th>Survived</th>\n",
       "    </tr>\n",
       "    <tr>\n",
       "      <th>Parch</th>\n",
       "      <th></th>\n",
       "    </tr>\n",
       "  </thead>\n",
       "  <tbody>\n",
       "    <tr>\n",
       "      <th>0</th>\n",
       "      <td>0.343658</td>\n",
       "    </tr>\n",
       "    <tr>\n",
       "      <th>1</th>\n",
       "      <td>0.550847</td>\n",
       "    </tr>\n",
       "    <tr>\n",
       "      <th>2</th>\n",
       "      <td>0.500000</td>\n",
       "    </tr>\n",
       "    <tr>\n",
       "      <th>3</th>\n",
       "      <td>0.600000</td>\n",
       "    </tr>\n",
       "    <tr>\n",
       "      <th>4</th>\n",
       "      <td>0.000000</td>\n",
       "    </tr>\n",
       "    <tr>\n",
       "      <th>5</th>\n",
       "      <td>0.200000</td>\n",
       "    </tr>\n",
       "    <tr>\n",
       "      <th>6</th>\n",
       "      <td>0.000000</td>\n",
       "    </tr>\n",
       "  </tbody>\n",
       "</table>\n",
       "</div>"
      ],
      "text/plain": [
       "       Survived\n",
       "Parch          \n",
       "0      0.343658\n",
       "1      0.550847\n",
       "2      0.500000\n",
       "3      0.600000\n",
       "4      0.000000\n",
       "5      0.200000\n",
       "6      0.000000"
      ]
     },
     "execution_count": 47,
     "metadata": {},
     "output_type": "execute_result"
    }
   ],
   "source": [
    "train[[\"Parch\", \"Survived\"]].groupby(\"Parch\").mean().sort_values(by=\"Survived\").sort_index()"
   ]
  },
  {
   "cell_type": "code",
   "execution_count": 48,
   "metadata": {},
   "outputs": [
    {
     "data": {
      "text/html": [
       "<div>\n",
       "<style scoped>\n",
       "    .dataframe tbody tr th:only-of-type {\n",
       "        vertical-align: middle;\n",
       "    }\n",
       "\n",
       "    .dataframe tbody tr th {\n",
       "        vertical-align: top;\n",
       "    }\n",
       "\n",
       "    .dataframe thead th {\n",
       "        text-align: right;\n",
       "    }\n",
       "</style>\n",
       "<table border=\"1\" class=\"dataframe\">\n",
       "  <thead>\n",
       "    <tr style=\"text-align: right;\">\n",
       "      <th></th>\n",
       "      <th>Survived</th>\n",
       "    </tr>\n",
       "    <tr>\n",
       "      <th>Family_Size</th>\n",
       "      <th></th>\n",
       "    </tr>\n",
       "  </thead>\n",
       "  <tbody>\n",
       "    <tr>\n",
       "      <th>1</th>\n",
       "      <td>0.303538</td>\n",
       "    </tr>\n",
       "    <tr>\n",
       "      <th>2</th>\n",
       "      <td>0.552795</td>\n",
       "    </tr>\n",
       "    <tr>\n",
       "      <th>3</th>\n",
       "      <td>0.578431</td>\n",
       "    </tr>\n",
       "    <tr>\n",
       "      <th>4</th>\n",
       "      <td>0.724138</td>\n",
       "    </tr>\n",
       "    <tr>\n",
       "      <th>5</th>\n",
       "      <td>0.200000</td>\n",
       "    </tr>\n",
       "    <tr>\n",
       "      <th>6</th>\n",
       "      <td>0.136364</td>\n",
       "    </tr>\n",
       "    <tr>\n",
       "      <th>7</th>\n",
       "      <td>0.333333</td>\n",
       "    </tr>\n",
       "    <tr>\n",
       "      <th>8</th>\n",
       "      <td>0.000000</td>\n",
       "    </tr>\n",
       "    <tr>\n",
       "      <th>11</th>\n",
       "      <td>0.000000</td>\n",
       "    </tr>\n",
       "  </tbody>\n",
       "</table>\n",
       "</div>"
      ],
      "text/plain": [
       "             Survived\n",
       "Family_Size          \n",
       "1            0.303538\n",
       "2            0.552795\n",
       "3            0.578431\n",
       "4            0.724138\n",
       "5            0.200000\n",
       "6            0.136364\n",
       "7            0.333333\n",
       "8            0.000000\n",
       "11           0.000000"
      ]
     },
     "execution_count": 48,
     "metadata": {},
     "output_type": "execute_result"
    }
   ],
   "source": [
    "train[[\"Family_Size\", \"Survived\"]].groupby(\"Family_Size\").mean().sort_values(by=\"Survived\").sort_index()"
   ]
  },
  {
   "cell_type": "markdown",
   "metadata": {},
   "source": [
    "## Pipeline Pieces"
   ]
  },
  {
   "cell_type": "code",
   "execution_count": 49,
   "metadata": {},
   "outputs": [],
   "source": [
    "def make_data():\n",
    "    train = pd.read_csv(\"data/train.csv\", index_col=0)\n",
    "    train_X = train.drop(\"Survived\", axis=1).copy()\n",
    "    train_y = train[\"Survived\"].copy()\n",
    "    return train_X, train_y"
   ]
  },
  {
   "cell_type": "code",
   "execution_count": 50,
   "metadata": {},
   "outputs": [],
   "source": [
    "class DataFrameSelector(BaseEstimator, TransformerMixin):\n",
    "    def __init__(self, attribute_names):\n",
    "        self.attribute_names = attribute_names\n",
    "        \n",
    "    def fit(self, X, y=None):\n",
    "        return self\n",
    "    \n",
    "    def transform(self, X):\n",
    "        return X.loc[:, self.attribute_names]"
   ]
  },
  {
   "cell_type": "code",
   "execution_count": 51,
   "metadata": {},
   "outputs": [],
   "source": [
    "class CategoryFactorizer(BaseEstimator, TransformerMixin):\n",
    "    def fit(self, X, y=None):\n",
    "        return self\n",
    "    \n",
    "    def transform(self, X):\n",
    "        encoded = X.factorize()[0].reshape(-1, 1)\n",
    "        return encoded"
   ]
  },
  {
   "cell_type": "code",
   "execution_count": 52,
   "metadata": {},
   "outputs": [],
   "source": [
    "class GenerateTitles(BaseEstimator, TransformerMixin):\n",
    "    def fit(self, X, y=None):\n",
    "        return self\n",
    "    \n",
    "    def transform(self, X):\n",
    "        # Check if the titles have already been added (Title and Age pipelines both add the column)\n",
    "        if \"Title\" in X.columns:\n",
    "            return X\n",
    "        X[\"Title\"] = X.Name.str.extract(' ([A-Za-z]+)\\.', expand=False)\n",
    "        title_mapping = {\n",
    "            \"Mlle\": \"Miss\", \"Mme\": \"Mrs\", \"Ms\": \"Miss\", \"Capt\": \"Military\", \"Col\": \"Military\", \"Major\": \"Military\", \n",
    "            \"Countess\": \"Nobility\", \"Don\": \"Nobility\", \"Dr\": \"Medical\", \"Jonkheer\": \"Nobility\", \"Lady\": \"Nobility\",\n",
    "            \"Rev\": \"Religous\", \"Sir\": \"Nobility\",\n",
    "        }\n",
    "        for from_title, to_title in title_mapping.items():    \n",
    "            X.loc[X.Title == from_title, \"Title\"] = to_title\n",
    "        return X"
   ]
  },
  {
   "cell_type": "code",
   "execution_count": 53,
   "metadata": {},
   "outputs": [],
   "source": [
    "class GenerateDecks(BaseEstimator, TransformerMixin):\n",
    "    def fit(self, X, y=None):\n",
    "        return self\n",
    "    \n",
    "    def transform(self, X):\n",
    "        X[\"Deck\"] = X.Cabin.astype(str).str[0]\n",
    "        return X"
   ]
  },
  {
   "cell_type": "code",
   "execution_count": 213,
   "metadata": {},
   "outputs": [],
   "source": [
    "class AgeImputerByTitlePclass(BaseEstimator, TransformerMixin):\n",
    "    def __init__(self, training_data):\n",
    "        self.training_data = GenerateTitles().transform(training_data)\n",
    "        \n",
    "    def fit(self, X, y=None):\n",
    "        return self\n",
    "    \n",
    "    def transform(self, X):\n",
    "        no_ages = np.isnan(X.Age.values)\n",
    "        for combo in X.loc[no_ages, [\"Title\", \"Pclass\"]].drop_duplicates().itertuples():\n",
    "            if combo.Title in [\"Master\", \"Medical\"]:\n",
    "                median_age = self.get_median_age(combo, [\"Title\"])\n",
    "            else:\n",
    "                median_age = self.get_median_age(combo, [\"Title\", \"Pclass\"])\n",
    "            X.loc[no_ages & (X.Title == combo.Title) & (X.Pclass == combo.Pclass), \"Age\"] = median_age\n",
    "        return X\n",
    "\n",
    "    def get_median_age(self, person, by):\n",
    "        if len(by) > 1:\n",
    "            matching_params = tuple(getattr(person, attribute) for attribute in by)\n",
    "        else:\n",
    "            matching_params = getattr(person, by[0])\n",
    "        median = self.training_data[[\"Age\"] + by].groupby(by).median().loc[matching_params, \"Age\"]\n",
    "        return median"
   ]
  },
  {
   "cell_type": "code",
   "execution_count": 55,
   "metadata": {},
   "outputs": [],
   "source": [
    "class Binner(BaseEstimator, TransformerMixin):\n",
    "    def __init__(self, column, bin_right_edges):\n",
    "        self.column = column\n",
    "        self.bin_right_edges = bin_right_edges\n",
    "        self.num_bins = len(bin_right_edges) + 1\n",
    "        \n",
    "    def fit(self, X, y=None):\n",
    "        return self\n",
    "    \n",
    "    def transform(self, X):\n",
    "        binned = np.full(X.shape[0], self.num_bins)\n",
    "        for i, bin_max in enumerate(reversed(self.bin_right_edges)):\n",
    "            binned[X[self.column].values < bin_max] = self.num_bins - i - 1\n",
    "        X[self.column] = binned\n",
    "        return X"
   ]
  },
  {
   "cell_type": "code",
   "execution_count": 56,
   "metadata": {},
   "outputs": [],
   "source": [
    "class SumColumns(BaseEstimator, TransformerMixin):\n",
    "    def __init__(self, in_cols, out_col):\n",
    "        self.in_cols = in_cols\n",
    "        self.out_col = out_col\n",
    "        \n",
    "    def fit(self, X, y=None):\n",
    "        return self\n",
    "    \n",
    "    def transform(self, X):\n",
    "        X[self.out_col] = X.loc[:, self.in_cols].sum(axis=1)\n",
    "        return X"
   ]
  },
  {
   "cell_type": "code",
   "execution_count": 57,
   "metadata": {},
   "outputs": [],
   "source": [
    "def numerics_pipeline(attribute_names, scaling=False):\n",
    "    pieces = [\n",
    "        ('selector', DataFrameSelector(attribute_names)),\n",
    "        ('imputer', Imputer(strategy=\"median\")),  # For lazily imputing Age\n",
    "    ]\n",
    "    if scaling:\n",
    "        pieces.append(('std_scaler', StandardScaler()))\n",
    "    return Pipeline(pieces)"
   ]
  },
  {
   "cell_type": "code",
   "execution_count": 58,
   "metadata": {},
   "outputs": [],
   "source": [
    "def str_category_pipeline(attribute_name):\n",
    "    return Pipeline([\n",
    "        ('selector', DataFrameSelector(attribute_name)),\n",
    "        ('factorize', CategoryFactorizer()),\n",
    "        ('imputer', Imputer(missing_values=-1, strategy=\"most_frequent\")),  # This is here for Embarked\n",
    "        ('one_hot', OneHotEncoder())\n",
    "    ])"
   ]
  },
  {
   "cell_type": "code",
   "execution_count": 59,
   "metadata": {},
   "outputs": [],
   "source": [
    "def ordinal_category_pipeline(attribute_name):\n",
    "    return Pipeline([\n",
    "        ('selector', DataFrameSelector(attribute_name)),\n",
    "        ('one_hot', OneHotEncoder())\n",
    "    ])"
   ]
  },
  {
   "cell_type": "code",
   "execution_count": 209,
   "metadata": {},
   "outputs": [],
   "source": [
    "def age_pipeline(bin_right_edges=None):\n",
    "    train_data, _ = make_data()\n",
    "    pieces = [\n",
    "        ('titler', GenerateTitles()),\n",
    "        ('selector', DataFrameSelector([\"Age\", \"Title\", \"Pclass\"])),\n",
    "        ('imputer', AgeImputerByTitlePclass(train_data)),\n",
    "        ('age_selector', DataFrameSelector([\"Age\"]))\n",
    "    ]\n",
    "    if bin_right_edges:\n",
    "        pieces.append(('bin', Binner(\"Age\", bin_right_edges)))\n",
    "        pieces.append(('one_hot', OneHotEncoder()))\n",
    "    return Pipeline(pieces)"
   ]
  },
  {
   "cell_type": "code",
   "execution_count": 61,
   "metadata": {},
   "outputs": [],
   "source": [
    "def title_pipeline():\n",
    "    return Pipeline([\n",
    "        ('titler', GenerateTitles()),\n",
    "        ('selector', DataFrameSelector(\"Title\")),\n",
    "        ('factorize', CategoryFactorizer()),\n",
    "        ('one_hot', OneHotEncoder()),\n",
    "    ])"
   ]
  },
  {
   "cell_type": "code",
   "execution_count": 62,
   "metadata": {},
   "outputs": [],
   "source": [
    "def family_size_pipeline(to_one_hots=False):\n",
    "    pieces = [\n",
    "        ('summer', SumColumns([\"SibSp\", \"Parch\"], \"Family_Size\")),\n",
    "        ('selector', DataFrameSelector([\"Family_Size\"]))\n",
    "    ]\n",
    "    if to_one_hots:\n",
    "        pieces.append(('one_hot', OneHotEncoder()))\n",
    "    return Pipeline(pieces)"
   ]
  },
  {
   "cell_type": "code",
   "execution_count": 63,
   "metadata": {},
   "outputs": [],
   "source": [
    "def deck_number_pipeline():\n",
    "    return Pipeline([\n",
    "        ('decker', GenerateDecks()),\n",
    "        ('selector', DataFrameSelector(\"Deck\")),\n",
    "        ('factorize', CategoryFactorizer()),\n",
    "        ('one_hot', OneHotEncoder()),\n",
    "    ])"
   ]
  },
  {
   "cell_type": "code",
   "execution_count": 64,
   "metadata": {},
   "outputs": [],
   "source": [
    "def display_scores(scores):\n",
    "    print(\"Mean Accuracy:\", scores.mean())\n",
    "    print(\"Standard deviation:\", scores.std())"
   ]
  },
  {
   "cell_type": "code",
   "execution_count": 154,
   "metadata": {},
   "outputs": [],
   "source": [
    "def test_model(model, X, y, scoring=\"accuracy\"):\n",
    "    scores = cross_val_score(model, X, y, scoring=scoring, n_jobs=6)\n",
    "    display_scores(scores)"
   ]
  },
  {
   "cell_type": "code",
   "execution_count": 66,
   "metadata": {},
   "outputs": [],
   "source": [
    "def test_pipeline(pipeline):\n",
    "    X_og, y = make_data()\n",
    "    X = pipeline.fit_transform(X_og)\n",
    "    print(\"Logistic Regression\")\n",
    "    print(\"===================\")\n",
    "    test_model(LogisticRegression(), X, y)\n",
    "    print()\n",
    "    print(\"Random Forest\")\n",
    "    print(\"=============\")\n",
    "    test_model(RandomForestClassifier(n_estimators=500, max_leaf_nodes=16, n_jobs=5), X, y)"
   ]
  },
  {
   "cell_type": "markdown",
   "metadata": {},
   "source": [
    "## Test a bunch of different models\n",
    "\n",
    "Let's just setup a basic pipeline to get a minimal model working. We can then add new or change pieces to improve our model. Testing a bunch of different models will let us decide what models we initially want to focus on for selecting features."
   ]
  },
  {
   "cell_type": "code",
   "execution_count": 67,
   "metadata": {},
   "outputs": [],
   "source": [
    "train_X, train_y = make_data()"
   ]
  },
  {
   "cell_type": "code",
   "execution_count": 68,
   "metadata": {},
   "outputs": [],
   "source": [
    "naive_pipeline = FeatureUnion(transformer_list=[\n",
    "    (\"num_no_scale_pipeline\", numerics_pipeline([\"Parch\", \"Pclass\", \"SibSp\"])),\n",
    "    (\"num_scale_pipeline\", numerics_pipeline([\"Age\", \"Fare\"], scaling=True)),\n",
    "    (\"sex_pipeline\", str_category_pipeline(\"Sex\")),\n",
    "    (\"embarked_pipeline\", str_category_pipeline(\"Embarked\")),\n",
    "])\n",
    "train_X_prep = naive_pipeline.fit_transform(train_X)"
   ]
  },
  {
   "cell_type": "code",
   "execution_count": 69,
   "metadata": {},
   "outputs": [
    {
     "name": "stdout",
     "output_type": "stream",
     "text": [
      "Mean Accuracy: 0.7878787878787877\n",
      "Standard deviation: 0.002749146737130378\n"
     ]
    }
   ],
   "source": [
    "test_model(LogisticRegression(), train_X_prep, train_y)"
   ]
  },
  {
   "cell_type": "code",
   "execution_count": 70,
   "metadata": {
    "scrolled": true
   },
   "outputs": [
    {
     "name": "stdout",
     "output_type": "stream",
     "text": [
      "Mean Accuracy: 0.7182940516273849\n",
      "Standard deviation: 0.020633867913412204\n"
     ]
    }
   ],
   "source": [
    "test_model(SGDClassifier(max_iter=5, tol=None), train_X_prep, train_y)"
   ]
  },
  {
   "cell_type": "code",
   "execution_count": 71,
   "metadata": {},
   "outputs": [
    {
     "name": "stdout",
     "output_type": "stream",
     "text": [
      "Mean Accuracy: 0.7867564534231201\n",
      "Standard deviation: 0.01144561058045517\n"
     ]
    }
   ],
   "source": [
    "test_model(LinearSVC(C=1, loss=\"hinge\"), train_X_prep, train_y)"
   ]
  },
  {
   "cell_type": "code",
   "execution_count": 72,
   "metadata": {},
   "outputs": [],
   "source": [
    "# This takes forever to run\n",
    "# test_model(SVC(kernel=\"poly\", degree=3, coef0=1, C=5), train_X_prep, train_y)"
   ]
  },
  {
   "cell_type": "code",
   "execution_count": 73,
   "metadata": {},
   "outputs": [
    {
     "name": "stdout",
     "output_type": "stream",
     "text": [
      "Mean Accuracy: 0.6161616161616161\n",
      "Standard deviation: 0.0\n"
     ]
    }
   ],
   "source": [
    "test_model(SVC(kernel=\"rbf\", gamma=5, C=0.001), train_X_prep, train_y)"
   ]
  },
  {
   "cell_type": "code",
   "execution_count": 74,
   "metadata": {},
   "outputs": [
    {
     "name": "stdout",
     "output_type": "stream",
     "text": [
      "Mean Accuracy: 0.7665544332210997\n",
      "Standard deviation: 0.015141119599587012\n"
     ]
    }
   ],
   "source": [
    "test_model(DecisionTreeClassifier(), train_X_prep, train_y)"
   ]
  },
  {
   "cell_type": "code",
   "execution_count": 75,
   "metadata": {},
   "outputs": [
    {
     "name": "stdout",
     "output_type": "stream",
     "text": [
      "Mean Accuracy: 0.7946127946127947\n",
      "Standard deviation: 0.009523323652344083\n"
     ]
    }
   ],
   "source": [
    "log_clf = LogisticRegression()\n",
    "rnd_clf = RandomForestClassifier()\n",
    "svm_clf = LinearSVC(C=1, loss=\"hinge\")\n",
    "\n",
    "voting_clf = VotingClassifier(\n",
    "    estimators=[('lr', log_clf), ('rf', rnd_clf), ('svc', svm_clf)],\n",
    "    voting='hard'\n",
    ")\n",
    "test_model(voting_clf, train_X_prep, train_y)"
   ]
  },
  {
   "cell_type": "code",
   "execution_count": 76,
   "metadata": {},
   "outputs": [
    {
     "name": "stdout",
     "output_type": "stream",
     "text": [
      "Mean Accuracy: 0.8069584736251403\n",
      "Standard deviation: 0.018304721021661176\n"
     ]
    }
   ],
   "source": [
    "# Can do boostrap=False for Pasting\n",
    "\n",
    "bag_clf = BaggingClassifier(\n",
    "    DecisionTreeClassifier(), \n",
    "    n_estimators=500,\n",
    "    max_samples=100,\n",
    "    bootstrap=True,\n",
    "    n_jobs=4\n",
    ")\n",
    "test_model(bag_clf, train_X_prep, train_y)"
   ]
  },
  {
   "cell_type": "code",
   "execution_count": 77,
   "metadata": {},
   "outputs": [
    {
     "name": "stdout",
     "output_type": "stream",
     "text": [
      "Mean Accuracy: 0.8159371492704826\n",
      "Standard deviation: 0.005722805290227617\n"
     ]
    }
   ],
   "source": [
    "rnd_clf = RandomForestClassifier(n_estimators=500, max_leaf_nodes=16, n_jobs=4)\n",
    "test_model(rnd_clf, train_X_prep, train_y)"
   ]
  },
  {
   "cell_type": "code",
   "execution_count": 78,
   "metadata": {},
   "outputs": [
    {
     "name": "stdout",
     "output_type": "stream",
     "text": [
      "Mean Accuracy: 0.8002244668911337\n",
      "Standard deviation: 0.030282239199174072\n"
     ]
    }
   ],
   "source": [
    "ada_clf = AdaBoostClassifier(\n",
    "    DecisionTreeClassifier(max_depth=1),\n",
    "    n_estimators=200,\n",
    "    algorithm=\"SAMME.R\",\n",
    "    learning_rate=0.5,\n",
    ")\n",
    "test_model(ada_clf, train_X_prep, train_y)"
   ]
  },
  {
   "cell_type": "code",
   "execution_count": 79,
   "metadata": {},
   "outputs": [
    {
     "name": "stdout",
     "output_type": "stream",
     "text": [
      "Mean Accuracy: 0.8215488215488215\n",
      "Standard deviation: 0.030613202462370048\n"
     ]
    }
   ],
   "source": [
    "gb_clf = GradientBoostingClassifier(max_depth=2, n_estimators=200)\n",
    "test_model(gb_clf, train_X_prep, train_y)"
   ]
  },
  {
   "cell_type": "markdown",
   "metadata": {},
   "source": [
    "## Test a bunch of different feature sets\n",
    "\n",
    "Let's see what sets of features give the best results for our initially selected models. We can then go back and see how different/tweaked models work on our selected set of features."
   ]
  },
  {
   "cell_type": "code",
   "execution_count": 80,
   "metadata": {},
   "outputs": [
    {
     "name": "stdout",
     "output_type": "stream",
     "text": [
      "Logistic Regression\n",
      "===================\n",
      "Mean Accuracy: 0.7890011223344556\n",
      "Standard deviation: 0.0015872206087240053\n",
      "\n",
      "Random Forest\n",
      "=============\n",
      "Mean Accuracy: 0.8159371492704827\n",
      "Standard deviation: 0.011110544261068086\n"
     ]
    }
   ],
   "source": [
    "no_scale_pipeline = FeatureUnion(transformer_list=[\n",
    "    (\"num_no_scale_pipeline\", numerics_pipeline([\"Parch\", \"Pclass\", \"SibSp\", \"Age\", \"Fare\"])),\n",
    "    (\"sex_pipeline\", str_category_pipeline(\"Sex\")),\n",
    "    (\"embarked_pipeline\", str_category_pipeline(\"Embarked\")),\n",
    "])\n",
    "test_pipeline(no_scale_pipeline)"
   ]
  },
  {
   "cell_type": "code",
   "execution_count": 81,
   "metadata": {},
   "outputs": [
    {
     "name": "stdout",
     "output_type": "stream",
     "text": [
      "Logistic Regression\n",
      "===================\n",
      "Mean Accuracy: 0.7912457912457912\n",
      "Standard deviation: 0.004761661826172068\n",
      "\n",
      "Random Forest\n",
      "=============\n",
      "Mean Accuracy: 0.8193041526374859\n",
      "Standard deviation: 0.008837270341202942\n"
     ]
    }
   ],
   "source": [
    "scale_fare_pipeline = FeatureUnion(transformer_list=[\n",
    "    (\"num_no_scale_pipeline\", numerics_pipeline([\"Parch\", \"Pclass\", \"SibSp\", \"Age\"])),\n",
    "    (\"num_scale_pipeline\", numerics_pipeline([\"Fare\"], scaling=True)),\n",
    "    (\"sex_pipeline\", str_category_pipeline(\"Sex\")),\n",
    "    (\"embarked_pipeline\", str_category_pipeline(\"Embarked\")),\n",
    "])\n",
    "test_pipeline(scale_fare_pipeline)"
   ]
  },
  {
   "cell_type": "code",
   "execution_count": 82,
   "metadata": {},
   "outputs": [
    {
     "name": "stdout",
     "output_type": "stream",
     "text": [
      "Logistic Regression\n",
      "===================\n",
      "Mean Accuracy: 0.7878787878787877\n",
      "Standard deviation: 0.002749146737130378\n",
      "\n",
      "Random Forest\n",
      "=============\n",
      "Mean Accuracy: 0.8193041526374859\n",
      "Standard deviation: 0.008837270341202942\n"
     ]
    }
   ],
   "source": [
    "scale_both_pipeline = FeatureUnion(transformer_list=[\n",
    "    (\"num_no_scale_pipeline\", numerics_pipeline([\"Parch\", \"Pclass\", \"SibSp\"])),\n",
    "    (\"num_scale_pipeline\", numerics_pipeline([\"Fare\", \"Age\"], scaling=True)),\n",
    "    (\"sex_pipeline\", str_category_pipeline(\"Sex\")),\n",
    "    (\"embarked_pipeline\", str_category_pipeline(\"Embarked\")),\n",
    "])\n",
    "test_pipeline(scale_both_pipeline)"
   ]
  },
  {
   "cell_type": "code",
   "execution_count": 83,
   "metadata": {},
   "outputs": [
    {
     "name": "stdout",
     "output_type": "stream",
     "text": [
      "Logistic Regression\n",
      "===================\n",
      "Mean Accuracy: 0.7912457912457912\n",
      "Standard deviation: 0.0072735585840716915\n",
      "\n",
      "Random Forest\n",
      "=============\n",
      "Mean Accuracy: 0.8159371492704827\n",
      "Standard deviation: 0.013561218825583124\n"
     ]
    }
   ],
   "source": [
    "one_hot_pclass = FeatureUnion(transformer_list=[\n",
    "    (\"num_no_scale_pipeline\", numerics_pipeline([\"Parch\", \"SibSp\"])),\n",
    "    (\"num_scale_pipeline\", numerics_pipeline([\"Fare\", \"Age\"], scaling=True)),\n",
    "    (\"ord_to_one_hot\", ordinal_category_pipeline([\"Pclass\"])),\n",
    "    (\"sex_pipeline\", str_category_pipeline(\"Sex\")),\n",
    "    (\"embarked_pipeline\", str_category_pipeline(\"Embarked\")),\n",
    "])\n",
    "test_pipeline(one_hot_pclass)"
   ]
  },
  {
   "cell_type": "code",
   "execution_count": 84,
   "metadata": {},
   "outputs": [
    {
     "name": "stdout",
     "output_type": "stream",
     "text": [
      "Logistic Regression\n",
      "===================\n",
      "Mean Accuracy: 0.8024691358024691\n",
      "Standard deviation: 0.0031744412174480106\n",
      "\n",
      "Random Forest\n",
      "=============\n",
      "Mean Accuracy: 0.8069584736251403\n",
      "Standard deviation: 0.012396589244879115\n"
     ]
    }
   ],
   "source": [
    "more_one_hots = FeatureUnion(transformer_list=[\n",
    "    (\"num_scale_pipeline\", numerics_pipeline([\"Fare\", \"Age\"], scaling=True)),\n",
    "    (\"ord_to_one_hot\", ordinal_category_pipeline([\"Parch\", \"Pclass\", \"SibSp\"])),\n",
    "    (\"sex_pipeline\", str_category_pipeline(\"Sex\")),\n",
    "    (\"embarked_pipeline\", str_category_pipeline(\"Embarked\")),\n",
    "])\n",
    "test_pipeline(more_one_hots)"
   ]
  },
  {
   "cell_type": "code",
   "execution_count": 85,
   "metadata": {
    "scrolled": false
   },
   "outputs": [
    {
     "name": "stdout",
     "output_type": "stream",
     "text": [
      "Logistic Regression\n",
      "===================\n",
      "Mean Accuracy: 0.8193041526374859\n",
      "Standard deviation: 0.006348882434896073\n",
      "\n",
      "Random Forest\n",
      "=============\n",
      "Mean Accuracy: 0.8215488215488215\n",
      "Standard deviation: 0.009523323652344083\n"
     ]
    }
   ],
   "source": [
    "add_title = FeatureUnion(transformer_list=[\n",
    "    (\"num_no_scale_pipeline\", numerics_pipeline([\"Parch\", \"SibSp\"])),\n",
    "    (\"num_scale_pipeline\", numerics_pipeline([\"Fare\", \"Age\"], scaling=True)),\n",
    "    (\"ord_to_one_hot\", ordinal_category_pipeline([\"Pclass\"])),\n",
    "    (\"sex_pipeline\", str_category_pipeline(\"Sex\")),\n",
    "    (\"embarked_pipeline\", str_category_pipeline(\"Embarked\")),\n",
    "    (\"title_generation\", title_pipeline()),\n",
    "])\n",
    "test_pipeline(add_title)"
   ]
  },
  {
   "cell_type": "code",
   "execution_count": 86,
   "metadata": {},
   "outputs": [
    {
     "name": "stdout",
     "output_type": "stream",
     "text": [
      "Logistic Regression\n",
      "===================\n",
      "Mean Accuracy: 0.8204264870931537\n",
      "Standard deviation: 0.006918534234533098\n",
      "\n",
      "Random Forest\n",
      "=============\n",
      "Mean Accuracy: 0.8249158249158249\n",
      "Standard deviation: 0.011983252808115978\n"
     ]
    }
   ],
   "source": [
    "title_no_scaling = FeatureUnion(transformer_list=[\n",
    "    (\"num_no_scale_pipeline\", numerics_pipeline([\"Parch\", \"SibSp\", \"Fare\", \"Age\"])),\n",
    "    (\"ord_to_one_hot\", ordinal_category_pipeline([\"Pclass\"])),\n",
    "    (\"sex_pipeline\", str_category_pipeline(\"Sex\")),\n",
    "    (\"embarked_pipeline\", str_category_pipeline(\"Embarked\")),\n",
    "    (\"title_generation\", title_pipeline()),\n",
    "])\n",
    "test_pipeline(title_no_scaling)"
   ]
  },
  {
   "cell_type": "code",
   "execution_count": 87,
   "metadata": {
    "scrolled": false
   },
   "outputs": [
    {
     "name": "stdout",
     "output_type": "stream",
     "text": [
      "Logistic Regression\n",
      "===================\n",
      "Mean Accuracy: 0.8181818181818182\n",
      "Standard deviation: 0.015306601231185003\n",
      "\n",
      "Random Forest\n",
      "=============\n",
      "Mean Accuracy: 0.8237934904601572\n",
      "Standard deviation: 0.012991960609192199\n"
     ]
    }
   ],
   "source": [
    "bin_age = FeatureUnion(transformer_list=[\n",
    "    (\"num_no_scale_pipeline\", numerics_pipeline([\"Parch\", \"SibSp\"])),\n",
    "    (\"num_scale_pipeline\", numerics_pipeline([\"Fare\"], scaling=True)),\n",
    "    (\"ord_to_one_hot\", ordinal_category_pipeline([\"Pclass\"])),\n",
    "    (\"sex_pipeline\", str_category_pipeline(\"Sex\")),\n",
    "    (\"embarked_pipeline\", str_category_pipeline(\"Embarked\")),\n",
    "    (\"title_generation\", title_pipeline()),\n",
    "    (\"age_pipeline\", age_pipeline([0.96, 6.5, 68.0])),\n",
    "])\n",
    "test_pipeline(bin_age)"
   ]
  },
  {
   "cell_type": "code",
   "execution_count": 88,
   "metadata": {},
   "outputs": [
    {
     "name": "stdout",
     "output_type": "stream",
     "text": [
      "Logistic Regression\n",
      "===================\n",
      "Mean Accuracy: 0.819304152637486\n",
      "Standard deviation: 0.015141119599587003\n",
      "\n",
      "Random Forest\n",
      "=============\n",
      "Mean Accuracy: 0.8260381593714926\n",
      "Standard deviation: 0.008398782012960598\n"
     ]
    }
   ],
   "source": [
    "family_size = FeatureUnion(transformer_list=[\n",
    "    (\"family_size_pipeline\", family_size_pipeline()),\n",
    "    (\"num_scale_pipeline\", numerics_pipeline([\"Fare\"], scaling=True)),\n",
    "    (\"ord_to_one_hot\", ordinal_category_pipeline([\"Pclass\"])),\n",
    "    (\"sex_pipeline\", str_category_pipeline(\"Sex\")),\n",
    "    (\"embarked_pipeline\", str_category_pipeline(\"Embarked\")),\n",
    "    (\"title_generation\", title_pipeline()),\n",
    "    (\"age_pipeline\", age_pipeline([0.96, 6.5, 68.0])),\n",
    "])\n",
    "test_pipeline(family_size)"
   ]
  },
  {
   "cell_type": "code",
   "execution_count": 89,
   "metadata": {},
   "outputs": [
    {
     "name": "stdout",
     "output_type": "stream",
     "text": [
      "Logistic Regression\n",
      "===================\n",
      "Mean Accuracy: 0.8226711560044894\n",
      "Standard deviation: 0.017674540682405832\n",
      "\n",
      "Random Forest\n",
      "=============\n",
      "Mean Accuracy: 0.8181818181818182\n",
      "Standard deviation: 0.011983252808115947\n"
     ]
    }
   ],
   "source": [
    "one_hot_families = FeatureUnion(transformer_list=[\n",
    "    (\"family_size_pipeline\", family_size_pipeline(to_one_hots=True)),\n",
    "    (\"num_scale_pipeline\", numerics_pipeline([\"Fare\"], scaling=True)),\n",
    "    (\"ord_to_one_hot\", ordinal_category_pipeline([\"Pclass\"])),\n",
    "    (\"sex_pipeline\", str_category_pipeline(\"Sex\")),\n",
    "    (\"embarked_pipeline\", str_category_pipeline(\"Embarked\")),\n",
    "    (\"title_generation\", title_pipeline()),\n",
    "    (\"age_pipeline\", age_pipeline([0.96, 6.5, 68.0])),\n",
    "])\n",
    "test_pipeline(one_hot_families)"
   ]
  },
  {
   "cell_type": "code",
   "execution_count": 90,
   "metadata": {},
   "outputs": [
    {
     "name": "stdout",
     "output_type": "stream",
     "text": [
      "Logistic Regression\n",
      "===================\n",
      "Mean Accuracy: 0.819304152637486\n",
      "Standard deviation: 0.018713054994986624\n",
      "\n",
      "Random Forest\n",
      "=============\n",
      "Mean Accuracy: 0.8271604938271605\n",
      "Standard deviation: 0.008837270341202942\n"
     ]
    }
   ],
   "source": [
    "deck_assignment = FeatureUnion(transformer_list=[\n",
    "    (\"family_size_pipeline\", family_size_pipeline()),\n",
    "    (\"num_scale_pipeline\", numerics_pipeline([\"Fare\"], scaling=True)),\n",
    "    (\"ord_to_one_hot\", ordinal_category_pipeline([\"Pclass\"])),\n",
    "    (\"sex_pipeline\", str_category_pipeline(\"Sex\")),\n",
    "    (\"embarked_pipeline\", str_category_pipeline(\"Embarked\")),\n",
    "    (\"title_generation\", title_pipeline()),\n",
    "    (\"age_pipeline\", age_pipeline([0.96, 6.5, 68.0])),\n",
    "    (\"deck_pipeline\", deck_number_pipeline()),\n",
    "])\n",
    "test_pipeline(deck_assignment)"
   ]
  },
  {
   "cell_type": "markdown",
   "metadata": {},
   "source": [
    "## Model Selection and Feature Importances\n",
    "\n",
    "Using our most promising pipelines, let's go back and tune the most promising models as well as see if we've added too many features"
   ]
  },
  {
   "cell_type": "code",
   "execution_count": 91,
   "metadata": {},
   "outputs": [],
   "source": [
    "# Utility function to report best scores\n",
    "def report(results, n_top=3):\n",
    "    for i in range(1, n_top + 1):\n",
    "        candidates = np.flatnonzero(results['rank_test_score'] == i)\n",
    "        for candidate in candidates:\n",
    "            print(\"Model with rank: {0}\".format(i))\n",
    "            print(\"Mean validation score: {0:.3f} (std: {1:.3f})\".format(\n",
    "                  results['mean_test_score'][candidate],\n",
    "                  results['std_test_score'][candidate]))\n",
    "            print(\"Parameters: {0}\".format(results['params'][candidate]))\n",
    "            print(\"\")"
   ]
  },
  {
   "cell_type": "code",
   "execution_count": 193,
   "metadata": {},
   "outputs": [],
   "source": [
    "def feature_importance_ranking(search, feature_list):\n",
    "    counter = 0\n",
    "    feature_array = []\n",
    "    for (feature, elements) in feature_list:\n",
    "        feature_array.append(search.best_estimator_.feature_importances_[counter:counter+elements].sum())\n",
    "        counter += elements\n",
    "    feature_array = np.array(feature_array)\n",
    "    for item in np.argsort(feature_array)[::-1]:\n",
    "        print('{}: {}'.format(feature_list[item][0], feature_array[item]))"
   ]
  },
  {
   "cell_type": "code",
   "execution_count": 159,
   "metadata": {},
   "outputs": [],
   "source": [
    "final_pipeline = FeatureUnion(transformer_list=[\n",
    "    (\"family_size_pipeline\", family_size_pipeline()),\n",
    "    (\"num_scale_pipeline\", numerics_pipeline([\"Fare\"], scaling=True)),\n",
    "    (\"ord_to_one_hot\", ordinal_category_pipeline([\"Pclass\"])),\n",
    "    (\"sex_pipeline\", str_category_pipeline(\"Sex\")),\n",
    "    (\"embarked_pipeline\", str_category_pipeline(\"Embarked\")),\n",
    "    (\"title_generation\", title_pipeline()),\n",
    "    (\"age_pipeline\", age_pipeline([0.96, 6.5, 68.0])),\n",
    "    (\"deck_pipeline\", deck_number_pipeline()),\n",
    "])"
   ]
  },
  {
   "cell_type": "code",
   "execution_count": 129,
   "metadata": {},
   "outputs": [],
   "source": [
    "train_X, train_y = make_data()\n",
    "train_X_prep = final_pipeline.fit_transform(train_X)"
   ]
  },
  {
   "cell_type": "code",
   "execution_count": 130,
   "metadata": {},
   "outputs": [
    {
     "name": "stdout",
     "output_type": "stream",
     "text": [
      "Model with rank: 1\n",
      "Mean validation score: 0.837 (std: 0.025)\n",
      "Parameters: {'max_depth': 232, 'min_samples_split': 16}\n",
      "\n",
      "Model with rank: 2\n",
      "Mean validation score: 0.835 (std: 0.029)\n",
      "Parameters: {'max_depth': 346, 'min_samples_split': 15}\n",
      "\n",
      "Model with rank: 2\n",
      "Mean validation score: 0.835 (std: 0.027)\n",
      "Parameters: {'max_depth': 223, 'min_samples_split': 16}\n",
      "\n"
     ]
    }
   ],
   "source": [
    "params = {\n",
    "    'max_depth': randint(150, 350),\n",
    "    'min_samples_split': randint(10, 25),\n",
    "}\n",
    "rnd_clf = RandomForestClassifier(n_estimators=500)\n",
    "forest_search = RandomizedSearchCV(rnd_clf, param_distributions=params, n_iter=400, n_jobs=6)\n",
    "forest_search.fit(train_X_prep, train_y)\n",
    "report(forest_search.cv_results_)"
   ]
  },
  {
   "cell_type": "markdown",
   "metadata": {},
   "source": [
    "Lots of models getting roughly the same score. Let's go with the top one and see our test_model() accuracy"
   ]
  },
  {
   "cell_type": "code",
   "execution_count": 158,
   "metadata": {},
   "outputs": [],
   "source": [
    "def final_forest(pipeline, max_depth, min_samples_split):\n",
    "    X_og, y = make_data()\n",
    "    X = pipeline.fit_transform(X_og)\n",
    "    print('Accuracy Scoring')\n",
    "    test_model(RandomForestClassifier(\n",
    "        n_estimators=500, \n",
    "        max_depth=max_depth, \n",
    "        min_samples_split=min_samples_split, \n",
    "        n_jobs=6\n",
    "    ), X, y)\n",
    "    print()\n",
    "    print('F1 Scoring')\n",
    "    test_model(RandomForestClassifier(\n",
    "        n_estimators=500, \n",
    "        max_depth=max_depth, \n",
    "        min_samples_split=min_samples_split, \n",
    "        n_jobs=6\n",
    "    ), X, y, 'f1')"
   ]
  },
  {
   "cell_type": "code",
   "execution_count": 160,
   "metadata": {},
   "outputs": [
    {
     "name": "stdout",
     "output_type": "stream",
     "text": [
      "Accuracy Scoring\n",
      "Mean Accuracy: 0.8249158249158249\n",
      "Standard deviation: 0.027900792131663427\n",
      "\n",
      "F1 Scoring\n",
      "Mean Accuracy: 0.7571537290715372\n",
      "Standard deviation: 0.032459905094914476\n"
     ]
    }
   ],
   "source": [
    "final_forest(final_pipeline, 232, 16)"
   ]
  },
  {
   "cell_type": "markdown",
   "metadata": {},
   "source": [
    "Now that we have what is essentially our baesline, let's see if we're using too many features. Perhaps the least important ones are actually making our predictions worse."
   ]
  },
  {
   "cell_type": "code",
   "execution_count": 134,
   "metadata": {},
   "outputs": [],
   "source": [
    "# 0 fam_size: 0\n",
    "# 1 fare: 1\n",
    "# 2 pclass: 2-4\n",
    "# 3 sex: 5-6\n",
    "# 4 embarked: 7-9\n",
    "# 5 title: 10-18\n",
    "# 6 age: 19-22\n",
    "# 7 deck: 23-31"
   ]
  },
  {
   "cell_type": "code",
   "execution_count": 135,
   "metadata": {},
   "outputs": [
    {
     "data": {
      "text/plain": [
       "array([0.06635434, 0.15720131, 0.11647373, 0.26083584, 0.03756611,\n",
       "       0.25791826, 0.06836328, 0.03528714])"
      ]
     },
     "execution_count": 135,
     "metadata": {},
     "output_type": "execute_result"
    }
   ],
   "source": [
    "feature_importance = np.array([\n",
    "    forest_search.best_estimator_.feature_importances_[0],\n",
    "    forest_search.best_estimator_.feature_importances_[1],\n",
    "    forest_search.best_estimator_.feature_importances_[2:5].sum(),\n",
    "    forest_search.best_estimator_.feature_importances_[5:7].sum(),\n",
    "    forest_search.best_estimator_.feature_importances_[7:10].sum(),\n",
    "    forest_search.best_estimator_.feature_importances_[10:19].sum(),\n",
    "    forest_search.best_estimator_.feature_importances_[19:23].sum(),\n",
    "    forest_search.best_estimator_.feature_importances_[23:].sum(),\n",
    "])\n",
    "feature_importance"
   ]
  },
  {
   "cell_type": "code",
   "execution_count": 136,
   "metadata": {},
   "outputs": [
    {
     "data": {
      "text/plain": [
       "array([0.03528714, 0.03756611, 0.06635434, 0.06836328, 0.11647373,\n",
       "       0.15720131, 0.25791826, 0.26083584])"
      ]
     },
     "execution_count": 136,
     "metadata": {},
     "output_type": "execute_result"
    }
   ],
   "source": [
    "np.sort(feature_importance)"
   ]
  },
  {
   "cell_type": "code",
   "execution_count": 137,
   "metadata": {},
   "outputs": [
    {
     "data": {
      "text/plain": [
       "array([7, 4, 0, 6, 2, 1, 5, 3], dtype=int64)"
      ]
     },
     "execution_count": 137,
     "metadata": {},
     "output_type": "execute_result"
    }
   ],
   "source": [
    "np.argsort(feature_importance)"
   ]
  },
  {
   "cell_type": "markdown",
   "metadata": {},
   "source": [
    "So, let's remove the deck assignments and see how we do. We need to re-run our parameter search though!"
   ]
  },
  {
   "cell_type": "code",
   "execution_count": 161,
   "metadata": {},
   "outputs": [],
   "source": [
    "final_pipeline = FeatureUnion(transformer_list=[\n",
    "    (\"family_size_pipeline\", family_size_pipeline()),\n",
    "    (\"num_scale_pipeline\", numerics_pipeline([\"Fare\"], scaling=True)),\n",
    "    (\"ord_to_one_hot\", ordinal_category_pipeline([\"Pclass\"])),\n",
    "    (\"sex_pipeline\", str_category_pipeline(\"Sex\")),\n",
    "    (\"embarked_pipeline\", str_category_pipeline(\"Embarked\")),\n",
    "    (\"title_generation\", title_pipeline()),\n",
    "    (\"age_pipeline\", age_pipeline([0.96, 6.5, 68.0])),\n",
    "])"
   ]
  },
  {
   "cell_type": "code",
   "execution_count": 139,
   "metadata": {},
   "outputs": [],
   "source": [
    "train_X, train_y = make_data()\n",
    "train_X_prep = final_pipeline.fit_transform(train_X)"
   ]
  },
  {
   "cell_type": "code",
   "execution_count": 140,
   "metadata": {},
   "outputs": [
    {
     "name": "stdout",
     "output_type": "stream",
     "text": [
      "Model with rank: 1\n",
      "Mean validation score: 0.840 (std: 0.025)\n",
      "Parameters: {'max_depth': 301, 'min_samples_split': 15}\n",
      "\n",
      "Model with rank: 2\n",
      "Mean validation score: 0.837 (std: 0.026)\n",
      "Parameters: {'max_depth': 277, 'min_samples_split': 13}\n",
      "\n",
      "Model with rank: 2\n",
      "Mean validation score: 0.837 (std: 0.021)\n",
      "Parameters: {'max_depth': 247, 'min_samples_split': 15}\n",
      "\n"
     ]
    }
   ],
   "source": [
    "params = {\n",
    "    'max_depth': randint(150, 350),\n",
    "    'min_samples_split': randint(10, 25),\n",
    "}\n",
    "rnd_clf = RandomForestClassifier(n_estimators=500)\n",
    "forest_search = RandomizedSearchCV(rnd_clf, param_distributions=params, n_iter=400, n_jobs=6)\n",
    "forest_search.fit(train_X_prep, train_y)\n",
    "report(forest_search.cv_results_)"
   ]
  },
  {
   "cell_type": "code",
   "execution_count": 162,
   "metadata": {},
   "outputs": [
    {
     "name": "stdout",
     "output_type": "stream",
     "text": [
      "Accuracy Scoring\n",
      "Mean Accuracy: 0.8316498316498316\n",
      "Standard deviation: 0.024434950681343697\n",
      "\n",
      "F1 Scoring\n",
      "Mean Accuracy: 0.7682392941440934\n",
      "Standard deviation: 0.02850962004341175\n"
     ]
    }
   ],
   "source": [
    "final_forest(final_pipeline, 301, 15)"
   ]
  },
  {
   "cell_type": "markdown",
   "metadata": {},
   "source": [
    "Our accuracy went up! Perhaps we're still including too many features. Let's see the importances of the new feature pipeline"
   ]
  },
  {
   "cell_type": "code",
   "execution_count": 143,
   "metadata": {},
   "outputs": [],
   "source": [
    "# 0 fam_size: 0\n",
    "# 1 fare: 1\n",
    "# 2 pclass: 2-4\n",
    "# 3 sex: 5-6\n",
    "# 4 embarked: 7-9\n",
    "# 5 title: 10-18\n",
    "# 6 age: 19-22"
   ]
  },
  {
   "cell_type": "code",
   "execution_count": 144,
   "metadata": {},
   "outputs": [
    {
     "data": {
      "text/plain": [
       "array([0.07669935, 0.20982839, 0.13360912, 0.26757708, 0.03740576,\n",
       "       0.24673365, 0.02814666])"
      ]
     },
     "execution_count": 144,
     "metadata": {},
     "output_type": "execute_result"
    }
   ],
   "source": [
    "feature_importance = np.array([\n",
    "    forest_search.best_estimator_.feature_importances_[0],\n",
    "    forest_search.best_estimator_.feature_importances_[1],\n",
    "    forest_search.best_estimator_.feature_importances_[2:5].sum(),\n",
    "    forest_search.best_estimator_.feature_importances_[5:7].sum(),\n",
    "    forest_search.best_estimator_.feature_importances_[7:10].sum(),\n",
    "    forest_search.best_estimator_.feature_importances_[10:19].sum(),\n",
    "    forest_search.best_estimator_.feature_importances_[19:23].sum(),\n",
    "])\n",
    "feature_importance"
   ]
  },
  {
   "cell_type": "code",
   "execution_count": 145,
   "metadata": {},
   "outputs": [
    {
     "data": {
      "text/plain": [
       "array([0.02814666, 0.03740576, 0.07669935, 0.13360912, 0.20982839,\n",
       "       0.24673365, 0.26757708])"
      ]
     },
     "execution_count": 145,
     "metadata": {},
     "output_type": "execute_result"
    }
   ],
   "source": [
    "np.sort(feature_importance)"
   ]
  },
  {
   "cell_type": "code",
   "execution_count": 146,
   "metadata": {},
   "outputs": [
    {
     "data": {
      "text/plain": [
       "array([6, 4, 0, 2, 1, 5, 3], dtype=int64)"
      ]
     },
     "execution_count": 146,
     "metadata": {},
     "output_type": "execute_result"
    }
   ],
   "source": [
    "np.argsort(feature_importance)"
   ]
  },
  {
   "cell_type": "markdown",
   "metadata": {},
   "source": [
    "According to this our binned age is contributing the least. Let's remove it and see what happens"
   ]
  },
  {
   "cell_type": "code",
   "execution_count": 163,
   "metadata": {},
   "outputs": [],
   "source": [
    "final_pipeline = FeatureUnion(transformer_list=[\n",
    "    (\"family_size_pipeline\", family_size_pipeline()),\n",
    "    (\"num_scale_pipeline\", numerics_pipeline([\"Fare\"], scaling=True)),\n",
    "    (\"ord_to_one_hot\", ordinal_category_pipeline([\"Pclass\"])),\n",
    "    (\"sex_pipeline\", str_category_pipeline(\"Sex\")),\n",
    "    (\"embarked_pipeline\", str_category_pipeline(\"Embarked\")),\n",
    "    (\"title_generation\", title_pipeline()),\n",
    "])"
   ]
  },
  {
   "cell_type": "code",
   "execution_count": 148,
   "metadata": {},
   "outputs": [
    {
     "name": "stdout",
     "output_type": "stream",
     "text": [
      "Model with rank: 1\n",
      "Mean validation score: 0.836 (std: 0.023)\n",
      "Parameters: {'max_depth': 254, 'min_samples_split': 13}\n",
      "\n",
      "Model with rank: 2\n",
      "Mean validation score: 0.835 (std: 0.025)\n",
      "Parameters: {'max_depth': 207, 'min_samples_split': 13}\n",
      "\n",
      "Model with rank: 3\n",
      "Mean validation score: 0.834 (std: 0.020)\n",
      "Parameters: {'max_depth': 329, 'min_samples_split': 16}\n",
      "\n"
     ]
    }
   ],
   "source": [
    "train_X, train_y = make_data()\n",
    "train_X_prep = final_pipeline.fit_transform(train_X)\n",
    "\n",
    "params = {\n",
    "    'max_depth': randint(150, 350),\n",
    "    'min_samples_split': randint(10, 25),\n",
    "}\n",
    "rnd_clf = RandomForestClassifier(n_estimators=500)\n",
    "forest_search = RandomizedSearchCV(rnd_clf, param_distributions=params, n_iter=400, n_jobs=6)\n",
    "forest_search.fit(train_X_prep, train_y)\n",
    "report(forest_search.cv_results_)"
   ]
  },
  {
   "cell_type": "code",
   "execution_count": 164,
   "metadata": {},
   "outputs": [
    {
     "name": "stdout",
     "output_type": "stream",
     "text": [
      "Accuracy Scoring\n",
      "Mean Accuracy: 0.8260381593714928\n",
      "Standard deviation: 0.023702258228892097\n",
      "\n",
      "F1 Scoring\n",
      "Mean Accuracy: 0.7616090331686663\n",
      "Standard deviation: 0.03487657295092995\n"
     ]
    }
   ],
   "source": [
    "final_forest(final_pipeline, 254, 13)"
   ]
  },
  {
   "cell_type": "markdown",
   "metadata": {},
   "source": [
    "Hmm, our accuracy went down. Let's recall that we can also use age as a continuous variable. Let's see what happens in that case."
   ]
  },
  {
   "cell_type": "code",
   "execution_count": 165,
   "metadata": {},
   "outputs": [],
   "source": [
    "final_pipeline = FeatureUnion(transformer_list=[\n",
    "    (\"family_size_pipeline\", family_size_pipeline()),\n",
    "    (\"num_scale_pipeline\", numerics_pipeline([\"Fare\", \"Age\"], scaling=True)),\n",
    "    (\"ord_to_one_hot\", ordinal_category_pipeline([\"Pclass\"])),\n",
    "    (\"sex_pipeline\", str_category_pipeline(\"Sex\")),\n",
    "    (\"embarked_pipeline\", str_category_pipeline(\"Embarked\")),\n",
    "    (\"title_generation\", title_pipeline()),\n",
    "])"
   ]
  },
  {
   "cell_type": "code",
   "execution_count": 152,
   "metadata": {},
   "outputs": [
    {
     "name": "stdout",
     "output_type": "stream",
     "text": [
      "Model with rank: 1\n",
      "Mean validation score: 0.845 (std: 0.025)\n",
      "Parameters: {'max_depth': 161, 'min_samples_split': 17}\n",
      "\n",
      "Model with rank: 1\n",
      "Mean validation score: 0.845 (std: 0.029)\n",
      "Parameters: {'max_depth': 251, 'min_samples_split': 17}\n",
      "\n",
      "Model with rank: 1\n",
      "Mean validation score: 0.845 (std: 0.023)\n",
      "Parameters: {'max_depth': 211, 'min_samples_split': 17}\n",
      "\n"
     ]
    }
   ],
   "source": [
    "train_X, train_y = make_data()\n",
    "train_X_prep = final_pipeline.fit_transform(train_X)\n",
    "\n",
    "params = {\n",
    "    'max_depth': randint(150, 350),\n",
    "    'min_samples_split': randint(10, 25),\n",
    "}\n",
    "rnd_clf = RandomForestClassifier(n_estimators=500)\n",
    "forest_search = RandomizedSearchCV(rnd_clf, param_distributions=params, n_iter=400, n_jobs=6)\n",
    "forest_search.fit(train_X_prep, train_y)\n",
    "report(forest_search.cv_results_)"
   ]
  },
  {
   "cell_type": "code",
   "execution_count": 166,
   "metadata": {},
   "outputs": [
    {
     "name": "stdout",
     "output_type": "stream",
     "text": [
      "Accuracy Scoring\n",
      "Mean Accuracy: 0.8395061728395062\n",
      "Standard deviation: 0.02135386934954035\n",
      "\n",
      "F1 Scoring\n",
      "Mean Accuracy: 0.778848712634051\n",
      "Standard deviation: 0.03511255884088036\n"
     ]
    }
   ],
   "source": [
    "final_forest(final_pipeline, 161, 17)"
   ]
  },
  {
   "cell_type": "code",
   "execution_count": 173,
   "metadata": {},
   "outputs": [
    {
     "name": "stdout",
     "output_type": "stream",
     "text": [
      "title: 0.2579091967237356\n",
      "sex: 0.24507577455274626\n",
      "fare: 0.1608641064143888\n",
      "pclass: 0.12342555370346686\n",
      "age: 0.11321262428501624\n",
      "fam_size: 0.0656062190449824\n",
      "embarked: 0.03390652527566358\n"
     ]
    }
   ],
   "source": [
    "feature_importance_ranking(\n",
    "    forest_search, \n",
    "    [\n",
    "        ('fam_size', 1),\n",
    "        ('fare', 1),\n",
    "        ('age', 1),\n",
    "        ('pclass', 3),\n",
    "        ('sex', 2),\n",
    "        ('embarked', 3),\n",
    "        ('title', 8),\n",
    "    ]\n",
    ")"
   ]
  },
  {
   "cell_type": "markdown",
   "metadata": {},
   "source": [
    "The continuous age seems to be much more important than the binned age and still improves our f1 score. Let's remove embarked and see how we do"
   ]
  },
  {
   "cell_type": "code",
   "execution_count": 181,
   "metadata": {},
   "outputs": [],
   "source": [
    "final_pipeline = FeatureUnion(transformer_list=[\n",
    "    (\"family_size_pipeline\", family_size_pipeline()),\n",
    "    (\"num_scale_pipeline\", numerics_pipeline([\"Fare\", \"Age\"], scaling=True)),\n",
    "    (\"ord_to_one_hot\", ordinal_category_pipeline([\"Pclass\"])),\n",
    "    (\"sex_pipeline\", str_category_pipeline(\"Sex\")),\n",
    "    (\"title_generation\", title_pipeline()),\n",
    "])"
   ]
  },
  {
   "cell_type": "code",
   "execution_count": 182,
   "metadata": {},
   "outputs": [
    {
     "name": "stdout",
     "output_type": "stream",
     "text": [
      "Model with rank: 1\n",
      "Mean validation score: 0.844 (std: 0.028)\n",
      "Parameters: {'max_depth': 204, 'min_samples_split': 12}\n",
      "\n",
      "Model with rank: 2\n",
      "Mean validation score: 0.843 (std: 0.026)\n",
      "Parameters: {'max_depth': 239, 'min_samples_split': 11}\n",
      "\n",
      "Model with rank: 2\n",
      "Mean validation score: 0.843 (std: 0.030)\n",
      "Parameters: {'max_depth': 195, 'min_samples_split': 11}\n",
      "\n",
      "Model with rank: 2\n",
      "Mean validation score: 0.843 (std: 0.028)\n",
      "Parameters: {'max_depth': 242, 'min_samples_split': 11}\n",
      "\n"
     ]
    }
   ],
   "source": [
    "train_X, train_y = make_data()\n",
    "train_X_prep = final_pipeline.fit_transform(train_X)\n",
    "\n",
    "params = {\n",
    "    'max_depth': randint(150, 350),\n",
    "    'min_samples_split': randint(10, 25),\n",
    "}\n",
    "rnd_clf = RandomForestClassifier(n_estimators=500)\n",
    "forest_search = RandomizedSearchCV(rnd_clf, param_distributions=params, n_iter=400, n_jobs=6)\n",
    "forest_search.fit(train_X_prep, train_y)\n",
    "report(forest_search.cv_results_)"
   ]
  },
  {
   "cell_type": "code",
   "execution_count": 183,
   "metadata": {},
   "outputs": [
    {
     "name": "stdout",
     "output_type": "stream",
     "text": [
      "Accuracy Scoring\n",
      "Mean Accuracy: 0.8395061728395062\n",
      "Standard deviation: 0.030282239199174055\n",
      "\n",
      "F1 Scoring\n",
      "Mean Accuracy: 0.7768430242051979\n",
      "Standard deviation: 0.03259897874002498\n"
     ]
    }
   ],
   "source": [
    "final_forest(final_pipeline, 204, 12)"
   ]
  },
  {
   "cell_type": "code",
   "execution_count": 194,
   "metadata": {},
   "outputs": [
    {
     "name": "stdout",
     "output_type": "stream",
     "text": [
      "sex: 0.25923169177515326\n",
      "title: 0.20019077403460286\n",
      "fare: 0.19392140276855713\n",
      "age: 0.1504390294002167\n",
      "pclass: 0.11754900752801341\n",
      "fam_size: 0.07866809449345669\n"
     ]
    }
   ],
   "source": [
    "feature_importance_ranking(\n",
    "    forest_search, \n",
    "    [\n",
    "        ('fam_size', 1),\n",
    "        ('fare', 1),\n",
    "        ('age', 1),\n",
    "        ('pclass', 3),\n",
    "        ('sex', 2),\n",
    "        ('title', 8),\n",
    "    ]\n",
    ")"
   ]
  },
  {
   "cell_type": "markdown",
   "metadata": {},
   "source": [
    "We didn't seem to do any better. Now, since we did change the age feature, let's try adding the deck feature back into this pipeline just for fun."
   ]
  },
  {
   "cell_type": "code",
   "execution_count": 195,
   "metadata": {},
   "outputs": [],
   "source": [
    "final_pipeline = FeatureUnion(transformer_list=[\n",
    "    (\"family_size_pipeline\", family_size_pipeline()),\n",
    "    (\"num_scale_pipeline\", numerics_pipeline([\"Fare\", \"Age\"], scaling=True)),\n",
    "    (\"ord_to_one_hot\", ordinal_category_pipeline([\"Pclass\"])),\n",
    "    (\"sex_pipeline\", str_category_pipeline(\"Sex\")),\n",
    "    (\"title_generation\", title_pipeline()),\n",
    "    (\"deck_pipeline\", deck_number_pipeline()),\n",
    "])"
   ]
  },
  {
   "cell_type": "code",
   "execution_count": 196,
   "metadata": {},
   "outputs": [
    {
     "name": "stdout",
     "output_type": "stream",
     "text": [
      "Model with rank: 1\n",
      "Mean validation score: 0.840 (std: 0.028)\n",
      "Parameters: {'max_depth': 347, 'min_samples_split': 11}\n",
      "\n",
      "Model with rank: 2\n",
      "Mean validation score: 0.838 (std: 0.029)\n",
      "Parameters: {'max_depth': 205, 'min_samples_split': 10}\n",
      "\n",
      "Model with rank: 2\n",
      "Mean validation score: 0.838 (std: 0.034)\n",
      "Parameters: {'max_depth': 307, 'min_samples_split': 11}\n",
      "\n",
      "Model with rank: 2\n",
      "Mean validation score: 0.838 (std: 0.026)\n",
      "Parameters: {'max_depth': 152, 'min_samples_split': 10}\n",
      "\n",
      "Model with rank: 2\n",
      "Mean validation score: 0.838 (std: 0.028)\n",
      "Parameters: {'max_depth': 187, 'min_samples_split': 12}\n",
      "\n"
     ]
    }
   ],
   "source": [
    "train_X, train_y = make_data()\n",
    "train_X_prep = final_pipeline.fit_transform(train_X)\n",
    "\n",
    "params = {\n",
    "    'max_depth': randint(150, 350),\n",
    "    'min_samples_split': randint(10, 25),\n",
    "}\n",
    "rnd_clf = RandomForestClassifier(n_estimators=500)\n",
    "forest_search = RandomizedSearchCV(rnd_clf, param_distributions=params, n_iter=400, n_jobs=6)\n",
    "forest_search.fit(train_X_prep, train_y)\n",
    "report(forest_search.cv_results_)"
   ]
  },
  {
   "cell_type": "code",
   "execution_count": 197,
   "metadata": {},
   "outputs": [
    {
     "name": "stdout",
     "output_type": "stream",
     "text": [
      "Accuracy Scoring\n",
      "Mean Accuracy: 0.8327721661054994\n",
      "Standard deviation: 0.03186323135034434\n",
      "\n",
      "F1 Scoring\n",
      "Mean Accuracy: 0.7620500037991788\n",
      "Standard deviation: 0.039946882677668626\n"
     ]
    }
   ],
   "source": [
    "final_forest(final_pipeline, 347, 11)"
   ]
  },
  {
   "cell_type": "code",
   "execution_count": 198,
   "metadata": {},
   "outputs": [
    {
     "name": "stdout",
     "output_type": "stream",
     "text": [
      "sex: 0.23538401761915245\n",
      "title: 0.21578221841595274\n",
      "fare: 0.17352392901871966\n",
      "age: 0.13375678350638784\n",
      "pclass: 0.09835420375944993\n",
      "fam_size: 0.07306353862631096\n",
      "deck: 0.07013530905402636\n"
     ]
    }
   ],
   "source": [
    "feature_importance_ranking(\n",
    "    forest_search, \n",
    "    [\n",
    "        ('fam_size', 1),\n",
    "        ('fare', 1),\n",
    "        ('age', 1),\n",
    "        ('pclass', 3),\n",
    "        ('sex', 2),\n",
    "        ('title', 8),\n",
    "        ('deck', 9)\n",
    "    ]\n",
    ")"
   ]
  },
  {
   "cell_type": "markdown",
   "metadata": {},
   "source": [
    "Nope, we're looking worse."
   ]
  },
  {
   "cell_type": "markdown",
   "metadata": {},
   "source": [
    "Woah, we forgot that the num_scale_pipeline imputes based on median instead of our fancy imputation for age. Let's make use of that."
   ]
  },
  {
   "cell_type": "code",
   "execution_count": 200,
   "metadata": {},
   "outputs": [],
   "source": [
    "final_pipeline = FeatureUnion(transformer_list=[\n",
    "    (\"family_size_pipeline\", family_size_pipeline()),\n",
    "    (\"num_scale_pipeline\", numerics_pipeline([\"Fare\"], scaling=True)),\n",
    "    (\"ord_to_one_hot\", ordinal_category_pipeline([\"Pclass\"])),\n",
    "    (\"sex_pipeline\", str_category_pipeline(\"Sex\")),\n",
    "    (\"embarked_pipeline\", str_category_pipeline(\"Embarked\")),\n",
    "    (\"title_generation\", title_pipeline()),\n",
    "    (\"age_pipeline\", age_pipeline()),\n",
    "])"
   ]
  },
  {
   "cell_type": "code",
   "execution_count": 201,
   "metadata": {},
   "outputs": [
    {
     "name": "stdout",
     "output_type": "stream",
     "text": [
      "Model with rank: 1\n",
      "Mean validation score: 0.842 (std: 0.028)\n",
      "Parameters: {'max_depth': 327, 'min_samples_split': 18}\n",
      "\n",
      "Model with rank: 2\n",
      "Mean validation score: 0.841 (std: 0.023)\n",
      "Parameters: {'max_depth': 209, 'min_samples_split': 18}\n",
      "\n",
      "Model with rank: 3\n",
      "Mean validation score: 0.840 (std: 0.026)\n",
      "Parameters: {'max_depth': 304, 'min_samples_split': 14}\n",
      "\n",
      "Model with rank: 3\n",
      "Mean validation score: 0.840 (std: 0.030)\n",
      "Parameters: {'max_depth': 256, 'min_samples_split': 12}\n",
      "\n"
     ]
    }
   ],
   "source": [
    "train_X, train_y = make_data()\n",
    "train_X_prep = final_pipeline.fit_transform(train_X)\n",
    "\n",
    "params = {\n",
    "    'max_depth': randint(150, 350),\n",
    "    'min_samples_split': randint(10, 25),\n",
    "}\n",
    "rnd_clf = RandomForestClassifier(n_estimators=500)\n",
    "forest_search = RandomizedSearchCV(rnd_clf, param_distributions=params, n_iter=400, n_jobs=6)\n",
    "forest_search.fit(train_X_prep, train_y)\n",
    "report(forest_search.cv_results_)"
   ]
  },
  {
   "cell_type": "code",
   "execution_count": 202,
   "metadata": {},
   "outputs": [
    {
     "name": "stdout",
     "output_type": "stream",
     "text": [
      "Accuracy Scoring\n",
      "Mean Accuracy: 0.8327721661054994\n",
      "Standard deviation: 0.022050373405598758\n",
      "\n",
      "F1 Scoring\n",
      "Mean Accuracy: 0.7648029872519876\n",
      "Standard deviation: 0.02806198562529839\n"
     ]
    }
   ],
   "source": [
    "final_forest(final_pipeline, 327, 18)"
   ]
  },
  {
   "cell_type": "code",
   "execution_count": 203,
   "metadata": {},
   "outputs": [
    {
     "name": "stdout",
     "output_type": "stream",
     "text": [
      "sex: 0.2663356518327682\n",
      "title: 0.24314600683137286\n",
      "fare: 0.1499599960413622\n",
      "pclass: 0.12417831305567796\n",
      "age: 0.11173267688193539\n",
      "fam_size: 0.07175609505079866\n",
      "embarked: 0.0328912603060849\n"
     ]
    }
   ],
   "source": [
    "feature_importance_ranking(\n",
    "    forest_search, \n",
    "    [\n",
    "        ('fam_size', 1),\n",
    "        ('fare', 1),\n",
    "        ('pclass', 3),\n",
    "        ('sex', 2),\n",
    "        ('embarked', 3),\n",
    "        ('title', 8),\n",
    "        ('age', 1),\n",
    "    ]\n",
    ")"
   ]
  },
  {
   "cell_type": "markdown",
   "metadata": {},
   "source": [
    "And then we'll remove embarked"
   ]
  },
  {
   "cell_type": "code",
   "execution_count": 214,
   "metadata": {},
   "outputs": [],
   "source": [
    "final_pipeline = FeatureUnion(transformer_list=[\n",
    "    (\"family_size_pipeline\", family_size_pipeline()),\n",
    "    (\"num_scale_pipeline\", numerics_pipeline([\"Fare\"], scaling=True)),\n",
    "    (\"ord_to_one_hot\", ordinal_category_pipeline([\"Pclass\"])),\n",
    "    (\"sex_pipeline\", str_category_pipeline(\"Sex\")),\n",
    "    (\"title_generation\", title_pipeline()),\n",
    "    (\"age_pipeline\", age_pipeline()),\n",
    "])"
   ]
  },
  {
   "cell_type": "code",
   "execution_count": 215,
   "metadata": {},
   "outputs": [],
   "source": [
    "train_X, train_y = make_data()\n",
    "train_X_prep = final_pipeline.fit_transform(train_X)"
   ]
  },
  {
   "cell_type": "code",
   "execution_count": 205,
   "metadata": {},
   "outputs": [
    {
     "name": "stdout",
     "output_type": "stream",
     "text": [
      "Model with rank: 1\n",
      "Mean validation score: 0.842 (std: 0.031)\n",
      "Parameters: {'max_depth': 324, 'min_samples_split': 19}\n",
      "\n",
      "Model with rank: 1\n",
      "Mean validation score: 0.842 (std: 0.023)\n",
      "Parameters: {'max_depth': 334, 'min_samples_split': 15}\n",
      "\n",
      "Model with rank: 3\n",
      "Mean validation score: 0.841 (std: 0.026)\n",
      "Parameters: {'max_depth': 188, 'min_samples_split': 17}\n",
      "\n",
      "Model with rank: 3\n",
      "Mean validation score: 0.841 (std: 0.029)\n",
      "Parameters: {'max_depth': 281, 'min_samples_split': 20}\n",
      "\n",
      "Model with rank: 3\n",
      "Mean validation score: 0.841 (std: 0.031)\n",
      "Parameters: {'max_depth': 230, 'min_samples_split': 21}\n",
      "\n",
      "Model with rank: 3\n",
      "Mean validation score: 0.841 (std: 0.027)\n",
      "Parameters: {'max_depth': 334, 'min_samples_split': 20}\n",
      "\n",
      "Model with rank: 3\n",
      "Mean validation score: 0.841 (std: 0.032)\n",
      "Parameters: {'max_depth': 343, 'min_samples_split': 19}\n",
      "\n",
      "Model with rank: 3\n",
      "Mean validation score: 0.841 (std: 0.027)\n",
      "Parameters: {'max_depth': 285, 'min_samples_split': 21}\n",
      "\n",
      "Model with rank: 3\n",
      "Mean validation score: 0.841 (std: 0.028)\n",
      "Parameters: {'max_depth': 245, 'min_samples_split': 17}\n",
      "\n",
      "Model with rank: 3\n",
      "Mean validation score: 0.841 (std: 0.026)\n",
      "Parameters: {'max_depth': 240, 'min_samples_split': 21}\n",
      "\n"
     ]
    }
   ],
   "source": [
    "params = {\n",
    "    'max_depth': randint(150, 350),\n",
    "    'min_samples_split': randint(10, 25),\n",
    "}\n",
    "rnd_clf = RandomForestClassifier(n_estimators=500)\n",
    "forest_search = RandomizedSearchCV(rnd_clf, param_distributions=params, n_iter=400, n_jobs=6)\n",
    "forest_search.fit(train_X_prep, train_y)\n",
    "report(forest_search.cv_results_)"
   ]
  },
  {
   "cell_type": "code",
   "execution_count": 216,
   "metadata": {},
   "outputs": [
    {
     "name": "stdout",
     "output_type": "stream",
     "text": [
      "Accuracy Scoring\n",
      "Mean Accuracy: 0.8372615039281706\n",
      "Standard deviation: 0.033142139304676535\n",
      "\n",
      "F1 Scoring\n",
      "Mean Accuracy: 0.7762829490770667\n",
      "Standard deviation: 0.043445606467314095\n"
     ]
    }
   ],
   "source": [
    "final_forest(final_pipeline, 324, 19)"
   ]
  },
  {
   "cell_type": "code",
   "execution_count": 207,
   "metadata": {},
   "outputs": [
    {
     "name": "stdout",
     "output_type": "stream",
     "text": [
      "sex: 0.264461516699798\n",
      "title: 0.23834536585959237\n",
      "fare: 0.16466438571495004\n",
      "age: 0.13216124308493024\n",
      "pclass: 0.12225892837471342\n",
      "fam_size: 0.07810856026601579\n"
     ]
    }
   ],
   "source": [
    "feature_importance_ranking(\n",
    "    forest_search, \n",
    "    [\n",
    "        ('fam_size', 1),\n",
    "        ('fare', 1),\n",
    "        ('pclass', 3),\n",
    "        ('sex', 2),\n",
    "        ('title', 8),\n",
    "        ('age', 1),\n",
    "    ]\n",
    ")"
   ]
  },
  {
   "cell_type": "markdown",
   "metadata": {},
   "source": [
    "Hmm, no difference. As much as I want to use the higher score model, I can't imagine the predictions will be better on the test set using less accurate ages."
   ]
  },
  {
   "cell_type": "markdown",
   "metadata": {},
   "source": [
    "## Submission\n",
    "\n",
    "Let's use our pipelines with and without embarked for submission. This means using the test data. "
   ]
  },
  {
   "cell_type": "code",
   "execution_count": 217,
   "metadata": {},
   "outputs": [],
   "source": [
    "final_pipeline = FeatureUnion(transformer_list=[\n",
    "    (\"family_size_pipeline\", family_size_pipeline()),\n",
    "    (\"num_scale_pipeline\", numerics_pipeline([\"Fare\"], scaling=True)),\n",
    "    (\"ord_to_one_hot\", ordinal_category_pipeline([\"Pclass\"])),\n",
    "    (\"sex_pipeline\", str_category_pipeline(\"Sex\")),\n",
    "    (\"title_generation\", title_pipeline()),\n",
    "    (\"age_pipeline\", age_pipeline()),\n",
    "])"
   ]
  },
  {
   "cell_type": "code",
   "execution_count": 218,
   "metadata": {},
   "outputs": [],
   "source": [
    "test_X_prep = final_pipeline.fit_transform(test)"
   ]
  },
  {
   "cell_type": "code",
   "execution_count": 220,
   "metadata": {},
   "outputs": [],
   "source": [
    "final_model = forest_search.best_estimator_"
   ]
  },
  {
   "cell_type": "code",
   "execution_count": 227,
   "metadata": {},
   "outputs": [],
   "source": [
    "submission_df = pd.DataFrame(data=final_model.predict(test_X_prep), index=test.index, columns=['Survived'])"
   ]
  },
  {
   "cell_type": "code",
   "execution_count": 229,
   "metadata": {},
   "outputs": [],
   "source": [
    "submission_df.to_csv('submission.csv')"
   ]
  },
  {
   "cell_type": "code",
   "execution_count": 230,
   "metadata": {},
   "outputs": [],
   "source": [
    "def generate_submission(pipeline):\n",
    "    train_X, train_y = make_data()\n",
    "    train_X_prep = final_pipeline.fit_transform(train_X)\n",
    "    params = {\n",
    "        'max_depth': randint(150, 350),\n",
    "        'min_samples_split': randint(10, 25),\n",
    "    }\n",
    "    rnd_clf = RandomForestClassifier(n_estimators=500)\n",
    "    forest_search = RandomizedSearchCV(rnd_clf, param_distributions=params, n_iter=400, n_jobs=6)\n",
    "    forest_search.fit(train_X_prep, train_y)\n",
    "    \n",
    "    test_X_prep = final_pipeline.fit_transform(test)\n",
    "    predictions = forest_search.best_estimator_.predict(test_X_prep)\n",
    "    submission_df = pd.DataFrame(data=predictions, index=test.index, columns=['Survived'])\n",
    "    submission_df.to_csv('submission.csv')"
   ]
  },
  {
   "cell_type": "code",
   "execution_count": 231,
   "metadata": {},
   "outputs": [],
   "source": [
    "final_pipeline = FeatureUnion(transformer_list=[\n",
    "    (\"family_size_pipeline\", family_size_pipeline()),\n",
    "    (\"num_scale_pipeline\", numerics_pipeline([\"Fare\", \"Age\"], scaling=True)),\n",
    "    (\"ord_to_one_hot\", ordinal_category_pipeline([\"Pclass\"])),\n",
    "    (\"sex_pipeline\", str_category_pipeline(\"Sex\")),\n",
    "    (\"embarked_pipeline\", str_category_pipeline(\"Embarked\")),\n",
    "    (\"title_generation\", title_pipeline()),\n",
    "])"
   ]
  },
  {
   "cell_type": "code",
   "execution_count": 232,
   "metadata": {},
   "outputs": [],
   "source": [
    "generate_submission(final_pipeline)"
   ]
  },
  {
   "cell_type": "code",
   "execution_count": null,
   "metadata": {},
   "outputs": [],
   "source": []
  }
 ],
 "metadata": {
  "kernelspec": {
   "display_name": "Python 3",
   "language": "python",
   "name": "python3"
  },
  "language_info": {
   "codemirror_mode": {
    "name": "ipython",
    "version": 3
   },
   "file_extension": ".py",
   "mimetype": "text/x-python",
   "name": "python",
   "nbconvert_exporter": "python",
   "pygments_lexer": "ipython3",
   "version": "3.6.4"
  }
 },
 "nbformat": 4,
 "nbformat_minor": 2
}
